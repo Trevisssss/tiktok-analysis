{
 "cells": [
  {
   "cell_type": "markdown",
   "metadata": {
    "id": "xgQEdIN7f1Jq"
   },
   "source": [
    "### **Task 1. Imports and Data Loading**"
   ]
  },
  {
   "cell_type": "markdown",
   "metadata": {
    "id": "ehehvUzFj0-e"
   },
   "source": [
    "Import packages and libraries needed to compute descriptive statistics and conduct a hypothesis test."
   ]
  },
  {
   "cell_type": "code",
   "execution_count": 141,
   "metadata": {
    "id": "1Q-GL2UrgWWG"
   },
   "outputs": [],
   "source": [
    "# Para manipulação de dados\n",
    "import pandas as pd\n",
    "import numpy as np\n",
    "\n",
    "# Visualização de dados\n",
    "from matplotlib import pyplot as plt\n",
    "import seaborn as sns\n",
    "\n",
    "# Importando os pacotes que serão usados para treinar e construir o modelo.\n",
    "from sklearn.model_selection import train_test_split\n",
    "from sklearn.linear_model import LogisticRegression\n",
    "from sklearn.metrics import classification_report\n",
    "from sklearn.metrics import confusion_matrix, ConfusionMatrixDisplay\n",
    "\n",
    "# Import packages for statistical analysis/hypothesis testing\n",
    "from scipy import stats \n",
    "\n",
    "#Outros\n",
    "from dotenv import load_dotenv\n",
    "import os"
   ]
  },
  {
   "cell_type": "markdown",
   "metadata": {
    "id": "IHSa7TiTkg78"
   },
   "source": [
    "Load the dataset."
   ]
  },
  {
   "cell_type": "markdown",
   "metadata": {},
   "source": []
  },
  {
   "cell_type": "code",
   "execution_count": 142,
   "metadata": {
    "id": "HLhV9YACjlC4"
   },
   "outputs": [],
   "source": [
    "# Load dataset into dataframe\n",
    "data = pd.read_csv('tiktok_dataset.csv')"
   ]
  },
  {
   "cell_type": "markdown",
   "metadata": {
    "id": "UKhYTdVhf5B2"
   },
   "source": [
    "### **Task 2. Exploração**\n",
    "\n"
   ]
  },
  {
   "cell_type": "markdown",
   "metadata": {},
   "source": [
    "Meu objetivo é identificar possíveis correlações, valores vazios, etc..."
   ]
  },
  {
   "cell_type": "code",
   "execution_count": 143,
   "metadata": {},
   "outputs": [
    {
     "name": "stdout",
     "output_type": "stream",
     "text": [
      "<class 'pandas.core.frame.DataFrame'>\n",
      "RangeIndex: 19382 entries, 0 to 19381\n",
      "Data columns (total 12 columns):\n",
      " #   Column                    Non-Null Count  Dtype  \n",
      "---  ------                    --------------  -----  \n",
      " 0   #                         19382 non-null  int64  \n",
      " 1   claim_status              19084 non-null  object \n",
      " 2   video_id                  19382 non-null  int64  \n",
      " 3   video_duration_sec        19382 non-null  int64  \n",
      " 4   video_transcription_text  19084 non-null  object \n",
      " 5   verified_status           19382 non-null  object \n",
      " 6   author_ban_status         19382 non-null  object \n",
      " 7   video_view_count          19084 non-null  float64\n",
      " 8   video_like_count          19084 non-null  float64\n",
      " 9   video_share_count         19084 non-null  float64\n",
      " 10  video_download_count      19084 non-null  float64\n",
      " 11  video_comment_count       19084 non-null  float64\n",
      "dtypes: float64(5), int64(3), object(4)\n",
      "memory usage: 1.8+ MB\n"
     ]
    }
   ],
   "source": [
    "data.info()\n",
    "# Verificando valores ausentes, tipos de dados e a estrutura geral do dataset.\n",
    "# Já podemos ver que existem valores ausentes no dataset que precisam ser tratados."
   ]
  },
  {
   "cell_type": "code",
   "execution_count": 144,
   "metadata": {},
   "outputs": [
    {
     "data": {
      "text/plain": [
       "(19382, 12)"
      ]
     },
     "execution_count": 144,
     "metadata": {},
     "output_type": "execute_result"
    }
   ],
   "source": [
    "data.shape"
   ]
  },
  {
   "cell_type": "code",
   "execution_count": 145,
   "metadata": {
    "id": "2rfk95MLp4a_"
   },
   "outputs": [
    {
     "data": {
      "application/vnd.microsoft.datawrangler.viewer.v0+json": {
       "columns": [
        {
         "name": "index",
         "rawType": "int64",
         "type": "integer"
        },
        {
         "name": "#",
         "rawType": "int64",
         "type": "integer"
        },
        {
         "name": "claim_status",
         "rawType": "object",
         "type": "string"
        },
        {
         "name": "video_id",
         "rawType": "int64",
         "type": "integer"
        },
        {
         "name": "video_duration_sec",
         "rawType": "int64",
         "type": "integer"
        },
        {
         "name": "video_transcription_text",
         "rawType": "object",
         "type": "string"
        },
        {
         "name": "verified_status",
         "rawType": "object",
         "type": "string"
        },
        {
         "name": "author_ban_status",
         "rawType": "object",
         "type": "string"
        },
        {
         "name": "video_view_count",
         "rawType": "float64",
         "type": "float"
        },
        {
         "name": "video_like_count",
         "rawType": "float64",
         "type": "float"
        },
        {
         "name": "video_share_count",
         "rawType": "float64",
         "type": "float"
        },
        {
         "name": "video_download_count",
         "rawType": "float64",
         "type": "float"
        },
        {
         "name": "video_comment_count",
         "rawType": "float64",
         "type": "float"
        }
       ],
       "ref": "a0d2e210-75dc-4580-9c6d-d569f032f98c",
       "rows": [
        [
         "0",
         "1",
         "claim",
         "7017666017",
         "59",
         "someone shared with me that drone deliveries are already happening and will become common by 2025",
         "not verified",
         "under review",
         "343296.0",
         "19425.0",
         "241.0",
         "1.0",
         "0.0"
        ],
        [
         "1",
         "2",
         "claim",
         "4014381136",
         "32",
         "someone shared with me that there are more microorganisms in one teaspoon of soil than people on the planet",
         "not verified",
         "active",
         "140877.0",
         "77355.0",
         "19034.0",
         "1161.0",
         "684.0"
        ],
        [
         "2",
         "3",
         "claim",
         "9859838091",
         "31",
         "someone shared with me that american industrialist andrew carnegie had a net worth of $475 million usd, worth over $300 billion usd today",
         "not verified",
         "active",
         "902185.0",
         "97690.0",
         "2858.0",
         "833.0",
         "329.0"
        ],
        [
         "3",
         "4",
         "claim",
         "1866847991",
         "25",
         "someone shared with me that the metro of st. petersburg, with an average depth of hundred meters, is the deepest metro in the world",
         "not verified",
         "active",
         "437506.0",
         "239954.0",
         "34812.0",
         "1234.0",
         "584.0"
        ],
        [
         "4",
         "5",
         "claim",
         "7105231098",
         "19",
         "someone shared with me that the number of businesses allowing employees to bring pets to the workplace has grown by 6% worldwide",
         "not verified",
         "active",
         "56167.0",
         "34987.0",
         "4110.0",
         "547.0",
         "152.0"
        ]
       ],
       "shape": {
        "columns": 12,
        "rows": 5
       }
      },
      "text/html": [
       "<div>\n",
       "<style scoped>\n",
       "    .dataframe tbody tr th:only-of-type {\n",
       "        vertical-align: middle;\n",
       "    }\n",
       "\n",
       "    .dataframe tbody tr th {\n",
       "        vertical-align: top;\n",
       "    }\n",
       "\n",
       "    .dataframe thead th {\n",
       "        text-align: right;\n",
       "    }\n",
       "</style>\n",
       "<table border=\"1\" class=\"dataframe\">\n",
       "  <thead>\n",
       "    <tr style=\"text-align: right;\">\n",
       "      <th></th>\n",
       "      <th>#</th>\n",
       "      <th>claim_status</th>\n",
       "      <th>video_id</th>\n",
       "      <th>video_duration_sec</th>\n",
       "      <th>video_transcription_text</th>\n",
       "      <th>verified_status</th>\n",
       "      <th>author_ban_status</th>\n",
       "      <th>video_view_count</th>\n",
       "      <th>video_like_count</th>\n",
       "      <th>video_share_count</th>\n",
       "      <th>video_download_count</th>\n",
       "      <th>video_comment_count</th>\n",
       "    </tr>\n",
       "  </thead>\n",
       "  <tbody>\n",
       "    <tr>\n",
       "      <th>0</th>\n",
       "      <td>1</td>\n",
       "      <td>claim</td>\n",
       "      <td>7017666017</td>\n",
       "      <td>59</td>\n",
       "      <td>someone shared with me that drone deliveries a...</td>\n",
       "      <td>not verified</td>\n",
       "      <td>under review</td>\n",
       "      <td>343296.0</td>\n",
       "      <td>19425.0</td>\n",
       "      <td>241.0</td>\n",
       "      <td>1.0</td>\n",
       "      <td>0.0</td>\n",
       "    </tr>\n",
       "    <tr>\n",
       "      <th>1</th>\n",
       "      <td>2</td>\n",
       "      <td>claim</td>\n",
       "      <td>4014381136</td>\n",
       "      <td>32</td>\n",
       "      <td>someone shared with me that there are more mic...</td>\n",
       "      <td>not verified</td>\n",
       "      <td>active</td>\n",
       "      <td>140877.0</td>\n",
       "      <td>77355.0</td>\n",
       "      <td>19034.0</td>\n",
       "      <td>1161.0</td>\n",
       "      <td>684.0</td>\n",
       "    </tr>\n",
       "    <tr>\n",
       "      <th>2</th>\n",
       "      <td>3</td>\n",
       "      <td>claim</td>\n",
       "      <td>9859838091</td>\n",
       "      <td>31</td>\n",
       "      <td>someone shared with me that american industria...</td>\n",
       "      <td>not verified</td>\n",
       "      <td>active</td>\n",
       "      <td>902185.0</td>\n",
       "      <td>97690.0</td>\n",
       "      <td>2858.0</td>\n",
       "      <td>833.0</td>\n",
       "      <td>329.0</td>\n",
       "    </tr>\n",
       "    <tr>\n",
       "      <th>3</th>\n",
       "      <td>4</td>\n",
       "      <td>claim</td>\n",
       "      <td>1866847991</td>\n",
       "      <td>25</td>\n",
       "      <td>someone shared with me that the metro of st. p...</td>\n",
       "      <td>not verified</td>\n",
       "      <td>active</td>\n",
       "      <td>437506.0</td>\n",
       "      <td>239954.0</td>\n",
       "      <td>34812.0</td>\n",
       "      <td>1234.0</td>\n",
       "      <td>584.0</td>\n",
       "    </tr>\n",
       "    <tr>\n",
       "      <th>4</th>\n",
       "      <td>5</td>\n",
       "      <td>claim</td>\n",
       "      <td>7105231098</td>\n",
       "      <td>19</td>\n",
       "      <td>someone shared with me that the number of busi...</td>\n",
       "      <td>not verified</td>\n",
       "      <td>active</td>\n",
       "      <td>56167.0</td>\n",
       "      <td>34987.0</td>\n",
       "      <td>4110.0</td>\n",
       "      <td>547.0</td>\n",
       "      <td>152.0</td>\n",
       "    </tr>\n",
       "  </tbody>\n",
       "</table>\n",
       "</div>"
      ],
      "text/plain": [
       "   # claim_status    video_id  video_duration_sec  \\\n",
       "0  1        claim  7017666017                  59   \n",
       "1  2        claim  4014381136                  32   \n",
       "2  3        claim  9859838091                  31   \n",
       "3  4        claim  1866847991                  25   \n",
       "4  5        claim  7105231098                  19   \n",
       "\n",
       "                            video_transcription_text verified_status  \\\n",
       "0  someone shared with me that drone deliveries a...    not verified   \n",
       "1  someone shared with me that there are more mic...    not verified   \n",
       "2  someone shared with me that american industria...    not verified   \n",
       "3  someone shared with me that the metro of st. p...    not verified   \n",
       "4  someone shared with me that the number of busi...    not verified   \n",
       "\n",
       "  author_ban_status  video_view_count  video_like_count  video_share_count  \\\n",
       "0      under review          343296.0           19425.0              241.0   \n",
       "1            active          140877.0           77355.0            19034.0   \n",
       "2            active          902185.0           97690.0             2858.0   \n",
       "3            active          437506.0          239954.0            34812.0   \n",
       "4            active           56167.0           34987.0             4110.0   \n",
       "\n",
       "   video_download_count  video_comment_count  \n",
       "0                   1.0                  0.0  \n",
       "1                1161.0                684.0  \n",
       "2                 833.0                329.0  \n",
       "3                1234.0                584.0  \n",
       "4                 547.0                152.0  "
      ]
     },
     "execution_count": 145,
     "metadata": {},
     "output_type": "execute_result"
    }
   ],
   "source": [
    "# Display first few rows\n",
    "data.head()"
   ]
  },
  {
   "cell_type": "code",
   "execution_count": 146,
   "metadata": {
    "id": "70vpvcv1gArp"
   },
   "outputs": [
    {
     "data": {
      "application/vnd.microsoft.datawrangler.viewer.v0+json": {
       "columns": [
        {
         "name": "index",
         "rawType": "object",
         "type": "string"
        },
        {
         "name": "video_duration_sec",
         "rawType": "float64",
         "type": "float"
        },
        {
         "name": "video_view_count",
         "rawType": "float64",
         "type": "float"
        },
        {
         "name": "video_like_count",
         "rawType": "float64",
         "type": "float"
        },
        {
         "name": "video_share_count",
         "rawType": "float64",
         "type": "float"
        },
        {
         "name": "video_download_count",
         "rawType": "float64",
         "type": "float"
        },
        {
         "name": "video_comment_count",
         "rawType": "float64",
         "type": "float"
        }
       ],
       "ref": "35a0363b-f3f0-43c6-9650-605e91b65f9c",
       "rows": [
        [
         "count",
         "19382.0",
         "19084.0",
         "19084.0",
         "19084.0",
         "19084.0",
         "19084.0"
        ],
        [
         "mean",
         "32.42173150345682",
         "254708.5586879061",
         "84304.63603018236",
         "16735.248323202683",
         "1049.4296269125969",
         "349.3121463005659"
        ],
        [
         "std",
         "16.229967178521935",
         "322893.2808137871",
         "133420.54681367226",
         "32036.174350150646",
         "2004.2998939791726",
         "799.6388647869026"
        ],
        [
         "min",
         "5.0",
         "20.0",
         "0.0",
         "0.0",
         "0.0",
         "0.0"
        ],
        [
         "25%",
         "18.0",
         "4942.5",
         "810.75",
         "115.0",
         "7.0",
         "1.0"
        ],
        [
         "50%",
         "32.0",
         "9954.5",
         "3403.5",
         "717.0",
         "46.0",
         "9.0"
        ],
        [
         "75%",
         "47.0",
         "504327.0",
         "125020.0",
         "18222.0",
         "1156.25",
         "292.0"
        ],
        [
         "max",
         "60.0",
         "999817.0",
         "657830.0",
         "256130.0",
         "14994.0",
         "9599.0"
        ]
       ],
       "shape": {
        "columns": 6,
        "rows": 8
       }
      },
      "text/html": [
       "<div>\n",
       "<style scoped>\n",
       "    .dataframe tbody tr th:only-of-type {\n",
       "        vertical-align: middle;\n",
       "    }\n",
       "\n",
       "    .dataframe tbody tr th {\n",
       "        vertical-align: top;\n",
       "    }\n",
       "\n",
       "    .dataframe thead th {\n",
       "        text-align: right;\n",
       "    }\n",
       "</style>\n",
       "<table border=\"1\" class=\"dataframe\">\n",
       "  <thead>\n",
       "    <tr style=\"text-align: right;\">\n",
       "      <th></th>\n",
       "      <th>video_duration_sec</th>\n",
       "      <th>video_view_count</th>\n",
       "      <th>video_like_count</th>\n",
       "      <th>video_share_count</th>\n",
       "      <th>video_download_count</th>\n",
       "      <th>video_comment_count</th>\n",
       "    </tr>\n",
       "  </thead>\n",
       "  <tbody>\n",
       "    <tr>\n",
       "      <th>count</th>\n",
       "      <td>19382.000000</td>\n",
       "      <td>19084.000000</td>\n",
       "      <td>19084.000000</td>\n",
       "      <td>19084.000000</td>\n",
       "      <td>19084.000000</td>\n",
       "      <td>19084.000000</td>\n",
       "    </tr>\n",
       "    <tr>\n",
       "      <th>mean</th>\n",
       "      <td>32.421732</td>\n",
       "      <td>254708.558688</td>\n",
       "      <td>84304.636030</td>\n",
       "      <td>16735.248323</td>\n",
       "      <td>1049.429627</td>\n",
       "      <td>349.312146</td>\n",
       "    </tr>\n",
       "    <tr>\n",
       "      <th>std</th>\n",
       "      <td>16.229967</td>\n",
       "      <td>322893.280814</td>\n",
       "      <td>133420.546814</td>\n",
       "      <td>32036.174350</td>\n",
       "      <td>2004.299894</td>\n",
       "      <td>799.638865</td>\n",
       "    </tr>\n",
       "    <tr>\n",
       "      <th>min</th>\n",
       "      <td>5.000000</td>\n",
       "      <td>20.000000</td>\n",
       "      <td>0.000000</td>\n",
       "      <td>0.000000</td>\n",
       "      <td>0.000000</td>\n",
       "      <td>0.000000</td>\n",
       "    </tr>\n",
       "    <tr>\n",
       "      <th>25%</th>\n",
       "      <td>18.000000</td>\n",
       "      <td>4942.500000</td>\n",
       "      <td>810.750000</td>\n",
       "      <td>115.000000</td>\n",
       "      <td>7.000000</td>\n",
       "      <td>1.000000</td>\n",
       "    </tr>\n",
       "    <tr>\n",
       "      <th>50%</th>\n",
       "      <td>32.000000</td>\n",
       "      <td>9954.500000</td>\n",
       "      <td>3403.500000</td>\n",
       "      <td>717.000000</td>\n",
       "      <td>46.000000</td>\n",
       "      <td>9.000000</td>\n",
       "    </tr>\n",
       "    <tr>\n",
       "      <th>75%</th>\n",
       "      <td>47.000000</td>\n",
       "      <td>504327.000000</td>\n",
       "      <td>125020.000000</td>\n",
       "      <td>18222.000000</td>\n",
       "      <td>1156.250000</td>\n",
       "      <td>292.000000</td>\n",
       "    </tr>\n",
       "    <tr>\n",
       "      <th>max</th>\n",
       "      <td>60.000000</td>\n",
       "      <td>999817.000000</td>\n",
       "      <td>657830.000000</td>\n",
       "      <td>256130.000000</td>\n",
       "      <td>14994.000000</td>\n",
       "      <td>9599.000000</td>\n",
       "    </tr>\n",
       "  </tbody>\n",
       "</table>\n",
       "</div>"
      ],
      "text/plain": [
       "       video_duration_sec  video_view_count  video_like_count  \\\n",
       "count        19382.000000      19084.000000      19084.000000   \n",
       "mean            32.421732     254708.558688      84304.636030   \n",
       "std             16.229967     322893.280814     133420.546814   \n",
       "min              5.000000         20.000000          0.000000   \n",
       "25%             18.000000       4942.500000        810.750000   \n",
       "50%             32.000000       9954.500000       3403.500000   \n",
       "75%             47.000000     504327.000000     125020.000000   \n",
       "max             60.000000     999817.000000     657830.000000   \n",
       "\n",
       "       video_share_count  video_download_count  video_comment_count  \n",
       "count       19084.000000          19084.000000         19084.000000  \n",
       "mean        16735.248323           1049.429627           349.312146  \n",
       "std         32036.174350           2004.299894           799.638865  \n",
       "min             0.000000              0.000000             0.000000  \n",
       "25%           115.000000              7.000000             1.000000  \n",
       "50%           717.000000             46.000000             9.000000  \n",
       "75%         18222.000000           1156.250000           292.000000  \n",
       "max        256130.000000          14994.000000          9599.000000  "
      ]
     },
     "execution_count": 146,
     "metadata": {},
     "output_type": "execute_result"
    }
   ],
   "source": [
    "#video_view_count ranges from 20 to 999.817 views, with a mean of 254708.55. \n",
    "#For the start of the analysis, we will focus on the video_view_count column grouped by verified_status column.\n",
    "#My question is: How the video_view_count is distributed among verified and unverified accounts?\n",
    "data[['video_duration_sec', 'video_view_count', 'video_like_count', 'video_share_count', 'video_download_count', 'video_comment_count']].describe()"
   ]
  },
  {
   "cell_type": "code",
   "execution_count": 147,
   "metadata": {},
   "outputs": [
    {
     "data": {
      "application/vnd.microsoft.datawrangler.viewer.v0+json": {
       "columns": [
        {
         "name": "verified_status",
         "rawType": "object",
         "type": "string"
        },
        {
         "name": "count",
         "rawType": "int64",
         "type": "integer"
        }
       ],
       "ref": "eb5ab583-2e57-4f96-a5a5-efed072a7696",
       "rows": [
        [
         "not verified",
         "18142"
        ],
        [
         "verified",
         "1240"
        ]
       ],
       "shape": {
        "columns": 1,
        "rows": 2
       }
      },
      "text/plain": [
       "verified_status\n",
       "not verified    18142\n",
       "verified         1240\n",
       "Name: count, dtype: int64"
      ]
     },
     "execution_count": 147,
     "metadata": {},
     "output_type": "execute_result"
    }
   ],
   "source": [
    "data['verified_status'].value_counts()\n",
    "#Check the distribution of the verified_status column, which is the target variable, for this project.\n",
    "#As I can see, the dataset is imbalanced, with the majority of the data being unverified accounts."
   ]
  },
  {
   "cell_type": "markdown",
   "metadata": {
    "id": "9OpeNQDdyIT6"
   },
   "source": [
    "Check for and handle missing values."
   ]
  },
  {
   "cell_type": "code",
   "execution_count": 148,
   "metadata": {
    "id": "BrunHcfa7xnT",
    "scrolled": true
   },
   "outputs": [
    {
     "data": {
      "application/vnd.microsoft.datawrangler.viewer.v0+json": {
       "columns": [
        {
         "name": "index",
         "rawType": "object",
         "type": "string"
        },
        {
         "name": "0",
         "rawType": "int64",
         "type": "integer"
        }
       ],
       "ref": "a2186e6f-ab83-43b8-ac31-9ff12abb02da",
       "rows": [
        [
         "#",
         "0"
        ],
        [
         "claim_status",
         "298"
        ],
        [
         "video_id",
         "0"
        ],
        [
         "video_duration_sec",
         "0"
        ],
        [
         "video_transcription_text",
         "298"
        ],
        [
         "verified_status",
         "0"
        ],
        [
         "author_ban_status",
         "0"
        ],
        [
         "video_view_count",
         "298"
        ],
        [
         "video_like_count",
         "298"
        ],
        [
         "video_share_count",
         "298"
        ],
        [
         "video_download_count",
         "298"
        ],
        [
         "video_comment_count",
         "298"
        ]
       ],
       "shape": {
        "columns": 1,
        "rows": 12
       }
      },
      "text/plain": [
       "#                             0\n",
       "claim_status                298\n",
       "video_id                      0\n",
       "video_duration_sec            0\n",
       "video_transcription_text    298\n",
       "verified_status               0\n",
       "author_ban_status             0\n",
       "video_view_count            298\n",
       "video_like_count            298\n",
       "video_share_count           298\n",
       "video_download_count        298\n",
       "video_comment_count         298\n",
       "dtype: int64"
      ]
     },
     "execution_count": 148,
     "metadata": {},
     "output_type": "execute_result"
    }
   ],
   "source": [
    "# Checando pelo total de valores nulos.\n",
    "data.isna().sum()"
   ]
  },
  {
   "cell_type": "markdown",
   "metadata": {},
   "source": [
    "💡 Como o objetivo final, é montar um modelo de classificação, é importante tratar os valores ausentes. Pois eles podem afetar a performance do modelo."
   ]
  },
  {
   "cell_type": "code",
   "execution_count": 149,
   "metadata": {
    "id": "SHSj1Hma914I"
   },
   "outputs": [],
   "source": [
    "# Dropando as linhas com valores ausentes.\n",
    "data.dropna(axis=0, inplace=True)"
   ]
  },
  {
   "cell_type": "code",
   "execution_count": 150,
   "metadata": {
    "id": "ZYUF3xap9_Fa"
   },
   "outputs": [
    {
     "name": "stdout",
     "output_type": "stream",
     "text": [
      "<class 'pandas.core.frame.DataFrame'>\n",
      "Index: 19084 entries, 0 to 19083\n",
      "Data columns (total 12 columns):\n",
      " #   Column                    Non-Null Count  Dtype  \n",
      "---  ------                    --------------  -----  \n",
      " 0   #                         19084 non-null  int64  \n",
      " 1   claim_status              19084 non-null  object \n",
      " 2   video_id                  19084 non-null  int64  \n",
      " 3   video_duration_sec        19084 non-null  int64  \n",
      " 4   video_transcription_text  19084 non-null  object \n",
      " 5   verified_status           19084 non-null  object \n",
      " 6   author_ban_status         19084 non-null  object \n",
      " 7   video_view_count          19084 non-null  float64\n",
      " 8   video_like_count          19084 non-null  float64\n",
      " 9   video_share_count         19084 non-null  float64\n",
      " 10  video_download_count      19084 non-null  float64\n",
      " 11  video_comment_count       19084 non-null  float64\n",
      "dtypes: float64(5), int64(3), object(4)\n",
      "memory usage: 1.9+ MB\n"
     ]
    }
   ],
   "source": [
    "# Checando novamente os valores nulos, se foram realmente removidos.\n",
    "data.info()"
   ]
  },
  {
   "cell_type": "markdown",
   "metadata": {
    "id": "-fFiNg4hdGBK"
   },
   "source": [
    "I'm interested in the relationship between `verified_status` and `video_view_count`. One approach is to examine the mean value of `video_view_count` for each group of `verified_status` in the sample data."
   ]
  },
  {
   "cell_type": "code",
   "execution_count": 151,
   "metadata": {
    "id": "2LGEWrdVXgI2"
   },
   "outputs": [
    {
     "data": {
      "application/vnd.microsoft.datawrangler.viewer.v0+json": {
       "columns": [
        {
         "name": "index",
         "rawType": "int64",
         "type": "integer"
        },
        {
         "name": "verified_status",
         "rawType": "object",
         "type": "string"
        },
        {
         "name": "Mean_View_Count",
         "rawType": "float64",
         "type": "float"
        },
        {
         "name": "Percentage",
         "rawType": "float64",
         "type": "float"
        }
       ],
       "ref": "a1996f2c-ceec-461f-9d72-d2bbff31ffe5",
       "rows": [
        [
         "0",
         "not verified",
         "265663.78533885034",
         "74.39417280274971"
        ],
        [
         "1",
         "verified",
         "91439.16416666667",
         "25.605827197250292"
        ]
       ],
       "shape": {
        "columns": 3,
        "rows": 2
       }
      },
      "text/html": [
       "<div>\n",
       "<style scoped>\n",
       "    .dataframe tbody tr th:only-of-type {\n",
       "        vertical-align: middle;\n",
       "    }\n",
       "\n",
       "    .dataframe tbody tr th {\n",
       "        vertical-align: top;\n",
       "    }\n",
       "\n",
       "    .dataframe thead th {\n",
       "        text-align: right;\n",
       "    }\n",
       "</style>\n",
       "<table border=\"1\" class=\"dataframe\">\n",
       "  <thead>\n",
       "    <tr style=\"text-align: right;\">\n",
       "      <th></th>\n",
       "      <th>verified_status</th>\n",
       "      <th>Mean_View_Count</th>\n",
       "      <th>Percentage</th>\n",
       "    </tr>\n",
       "  </thead>\n",
       "  <tbody>\n",
       "    <tr>\n",
       "      <th>0</th>\n",
       "      <td>not verified</td>\n",
       "      <td>265663.785339</td>\n",
       "      <td>74.394173</td>\n",
       "    </tr>\n",
       "    <tr>\n",
       "      <th>1</th>\n",
       "      <td>verified</td>\n",
       "      <td>91439.164167</td>\n",
       "      <td>25.605827</td>\n",
       "    </tr>\n",
       "  </tbody>\n",
       "</table>\n",
       "</div>"
      ],
      "text/plain": [
       "  verified_status  Mean_View_Count  Percentage\n",
       "0    not verified    265663.785339   74.394173\n",
       "1        verified     91439.164167   25.605827"
      ]
     },
     "execution_count": 151,
     "metadata": {},
     "output_type": "execute_result"
    }
   ],
   "source": [
    "# Compute the mean `video_view_count` for each group in `verified_status`\n",
    "(\n",
    "    data.groupby('verified_status')\n",
    "        .agg(Mean_View_Count= pd.NamedAgg(column='video_view_count', aggfunc='mean'))\n",
    "        .assign(Percentage=lambda x: 100 * x['Mean_View_Count'] / x['Mean_View_Count'].sum())\n",
    "        .reset_index()\n",
    ")"
   ]
  },
  {
   "cell_type": "code",
   "execution_count": 152,
   "metadata": {},
   "outputs": [
    {
     "data": {
      "text/plain": [
       "48.788345605499416"
      ]
     },
     "execution_count": 152,
     "metadata": {},
     "output_type": "execute_result"
    }
   ],
   "source": [
    "((265663.78533885034 / (265663.78533885034 + 91439.16416666667)) * 100) - 25.605827197250292"
   ]
  },
  {
   "cell_type": "markdown",
   "metadata": {
    "id": "QpFRQDaNzX6p"
   },
   "source": [
    "### **Task 3. Teste de Hipótese**"
   ]
  },
  {
   "cell_type": "markdown",
   "metadata": {
    "id": "ViBd7pL-tYHY"
   },
   "source": [
    "<b>The null hypotheses is:</b> The difference in the mean ocurred by chance.\n",
    "<b>The Alternative hypotheses:</b> The difference in the mean has not ocurred by chance."
   ]
  },
  {
   "cell_type": "markdown",
   "metadata": {
    "id": "7Mn5GJ460HUS"
   },
   "source": [
    "\n",
    "\n",
    "Your goal in this step is to conduct a two-sample t-test. Recall the steps for conducting a hypothesis test:\n",
    "\n",
    "\n",
    "1.   State the null hypothesis and the alternative hypothesis\n",
    "2.   Choose a signficance level\n",
    "3.   Find the p-value\n",
    "4.   Reject or fail to reject the null hypothesis\n",
    "\n"
   ]
  },
  {
   "cell_type": "markdown",
   "metadata": {
    "id": "phXxr74vVPrs"
   },
   "source": [
    "<b>The null hypotheses is:</b> The difference in the mean between not verified and verified status ocurred by chance.\n",
    "<b>The Alternative hypotheses:</b> The difference in the mean between not verified and verified status has not ocurred by chance."
   ]
  },
  {
   "cell_type": "markdown",
   "metadata": {
    "id": "IVHpnfvNeTUA"
   },
   "source": [
    "You choose 5% as the significance level and proceed with a two-sample t-test."
   ]
  },
  {
   "cell_type": "code",
   "execution_count": 153,
   "metadata": {
    "id": "rdlsXg7Dhbrd"
   },
   "outputs": [
    {
     "data": {
      "text/plain": [
       "TtestResult(statistic=np.float64(25.499441780633777), pvalue=np.float64(2.6088823687177823e-120), df=np.float64(1571.163074387424))"
      ]
     },
     "execution_count": 153,
     "metadata": {},
     "output_type": "execute_result"
    }
   ],
   "source": [
    "# Conduct a two-sample t-test to compare means\n",
    "### YOUR CODE HERE ###\n",
    "\n",
    "# Save each sample in a variable\n",
    "not_verified = data[data[\"verified_status\"] == \"not verified\"][\"video_view_count\"]\n",
    "verified = data[data[\"verified_status\"] == \"verified\"][\"video_view_count\"]\n",
    "\n",
    "# Implement a t-test using the two samples\n",
    "stats.ttest_ind(a=not_verified, b=verified, equal_var=False)"
   ]
  },
  {
   "cell_type": "markdown",
   "metadata": {
    "id": "h1PRfiD3hcwE"
   },
   "source": [
    "### **Step 4: Insights do Teste de Hipótese**"
   ]
  },
  {
   "cell_type": "markdown",
   "metadata": {},
   "source": [
    "<h3>Insights</h3>\n",
    "<div style=\"background-color: #f8f9fa; border-left: 5px solid #007bff; padding: 10px 15px; margin-top: 1em;\">\n",
    "  <p>\n",
    "  Com base no <b>valor-p muito baixo</b>, podemos <b>rejeitar a hipótese nula</b>. Isso implica que a diferença observada é estatisticamente significativa e não ocorreu apenas por acaso.\n",
    "  </p>\n",
    "</div>"
   ]
  },
  {
   "cell_type": "markdown",
   "metadata": {},
   "source": [
    "\n",
    "## Próximo Passo: Exploração de outliers e Regression Logística"
   ]
  },
  {
   "cell_type": "markdown",
   "metadata": {},
   "source": [
    "Após confirmar que existe uma diferença estatística na contagem de visualizações entre contas Verificadas e Não Verificadas, agora quero construir um modelo de regressão logística para prever como cada variável afeta o resultado de uma conta ser verificada ou não."
   ]
  },
  {
   "cell_type": "markdown",
   "metadata": {},
   "source": [
    "### Exploração"
   ]
  },
  {
   "cell_type": "code",
   "execution_count": 154,
   "metadata": {},
   "outputs": [
    {
     "data": {
      "application/vnd.microsoft.datawrangler.viewer.v0+json": {
       "columns": [
        {
         "name": "index",
         "rawType": "object",
         "type": "string"
        },
        {
         "name": "0",
         "rawType": "object",
         "type": "unknown"
        }
       ],
       "ref": "57931193-cbf8-48b3-860c-68a871d7daa5",
       "rows": [
        [
         "#",
         "int64"
        ],
        [
         "claim_status",
         "object"
        ],
        [
         "video_id",
         "int64"
        ],
        [
         "video_duration_sec",
         "int64"
        ],
        [
         "video_transcription_text",
         "object"
        ],
        [
         "verified_status",
         "object"
        ],
        [
         "author_ban_status",
         "object"
        ],
        [
         "video_view_count",
         "float64"
        ],
        [
         "video_like_count",
         "float64"
        ],
        [
         "video_share_count",
         "float64"
        ],
        [
         "video_download_count",
         "float64"
        ],
        [
         "video_comment_count",
         "float64"
        ]
       ],
       "shape": {
        "columns": 1,
        "rows": 12
       }
      },
      "text/plain": [
       "#                             int64\n",
       "claim_status                 object\n",
       "video_id                      int64\n",
       "video_duration_sec            int64\n",
       "video_transcription_text     object\n",
       "verified_status              object\n",
       "author_ban_status            object\n",
       "video_view_count            float64\n",
       "video_like_count            float64\n",
       "video_share_count           float64\n",
       "video_download_count        float64\n",
       "video_comment_count         float64\n",
       "dtype: object"
      ]
     },
     "execution_count": 154,
     "metadata": {},
     "output_type": "execute_result"
    }
   ],
   "source": [
    "data.dtypes"
   ]
  },
  {
   "cell_type": "code",
   "execution_count": 155,
   "metadata": {},
   "outputs": [],
   "source": [
    "sns.set_theme(\n",
    "    style=\"whitegrid\",\n",
    "    palette=\"pastel\",\n",
    "    context=\"talk\",\n",
    "    font=\"segoe ui\",\n",
    "    font_scale=0.6,\n",
    "    rc={\"axes.spines.right\": False, \"axes.spines.top\": False}\n",
    ")"
   ]
  },
  {
   "cell_type": "code",
   "execution_count": 156,
   "metadata": {},
   "outputs": [
    {
     "data": {
      "image/png": "[encoded data removed]",
      "text/plain": [
       "<Figure size 600x200 with 1 Axes>"
      ]
     },
     "metadata": {},
     "output_type": "display_data"
    }
   ],
   "source": [
    "plt.figure(figsize=(6,2))\n",
    "sns.boxplot(data=data, x='video_view_count', color='#3274a1')\n",
    "plt.show()\n",
    "#Likes e views são variáveis que estão relacionadas, então não irei considerar os likes para a construção do modelo, \n",
    "# por questões de multicolinearidade entre views e likes. Ver gráfico de likes e views na célula abaixo.\n"
   ]
  },
  {
   "cell_type": "code",
   "execution_count": 157,
   "metadata": {},
   "outputs": [
    {
     "data": {
      "text/plain": [
       "<Figure size 600x200 with 0 Axes>"
      ]
     },
     "execution_count": 157,
     "metadata": {},
     "output_type": "execute_result"
    },
    {
     "data": {
      "image/png": "[encoded data removed]",
      "text/plain": [
       "<Figure size 640x480 with 1 Axes>"
      ]
     },
     "metadata": {},
     "output_type": "display_data"
    },
    {
     "data": {
      "text/plain": [
       "<Figure size 600x200 with 0 Axes>"
      ]
     },
     "metadata": {},
     "output_type": "display_data"
    }
   ],
   "source": [
    "#Mostrando a relação entre video_view_count e video_like_count comentada na célula anterior.\n",
    "# Como essas duas variáveis são fortemente correlacionadas, será considerado apenas a variável video_view_count \n",
    "# para a construção do modelo de regressão.\n",
    "sns.scatterplot(data=data, x='video_view_count', y='video_like_count', alpha=0.5, color='#3274a1')\n",
    "plt.figure(figsize=(6,2))"
   ]
  },
  {
   "cell_type": "code",
   "execution_count": 158,
   "metadata": {},
   "outputs": [
    {
     "data": {
      "image/png": "[encoded data removed]",
      "text/plain": [
       "<Figure size 600x600 with 1 Axes>"
      ]
     },
     "metadata": {},
     "output_type": "display_data"
    }
   ],
   "source": [
    "plt.figure(figsize=(6,6))\n",
    "sns.boxplot(data=data, y='video_view_count', x='claim_status', color='#3274a1', fliersize=5)\n",
    "plt.show()"
   ]
  },
  {
   "cell_type": "markdown",
   "metadata": {},
   "source": [
    "<h3>Insights</h3>\n",
    "<div style=\"background-color: #f8f9fa; border-left: 5px solid #007bff; padding: 10px 15px; margin-top: 1em;\">\n",
    "  <p>\n",
    "  Videos categorizadas como <b>'claims'</b> tendem a ter um número <b>maior</b> de visualizações.\n",
    "  O que reforça a ideia de que vídeos com claims são mais populares ou atraentes dado as possíveis controvérsias que geram.\n",
    "  </p>\n",
    "</div>"
   ]
  },
  {
   "cell_type": "code",
   "execution_count": 159,
   "metadata": {},
   "outputs": [
    {
     "data": {
      "image/png": "[encoded data removed]",
      "text/plain": [
       "<Figure size 1200x400 with 2 Axes>"
      ]
     },
     "metadata": {},
     "output_type": "display_data"
    },
    {
     "data": {
      "text/plain": [
       "np.float64(32.0)"
      ]
     },
     "metadata": {},
     "output_type": "display_data"
    }
   ],
   "source": [
    "fig, axes = plt.subplots(1, 2, figsize=(12, 4))\n",
    "\n",
    "# Aqui consigo ver que a duração dos vídeos é bem distribuida, com a maior parte deles estando entre 20 e 50 segundos.\n",
    "# Dessa forma eu não preciso lidar com outliers, pois não há muitos valores discrepantes.\n",
    "sns.boxplot(data=data, y='video_duration_sec', ax=axes[0], color='#3274a1', fliersize=5)\n",
    "axes[0].set_title('Boxplot of Video Duration (sec)')\n",
    "\n",
    "# Histogram\n",
    "sns.histplot(data=data, x='video_duration_sec', color='#3274a1', kde=True, ax=axes[1], bins=40)\n",
    "axes[1].set_title('Histogram of Video Duration (sec)')\n",
    "\n",
    "plt.tight_layout()\n",
    "plt.show()\n",
    "\n",
    "display(data['video_duration_sec'].median())"
   ]
  },
  {
   "cell_type": "code",
   "execution_count": 160,
   "metadata": {},
   "outputs": [
    {
     "data": {
      "text/plain": [
       "np.float64(292.0)"
      ]
     },
     "metadata": {},
     "output_type": "display_data"
    },
    {
     "data": {
      "text/plain": [
       "np.float64(9599.0)"
      ]
     },
     "metadata": {},
     "output_type": "display_data"
    },
    {
     "data": {
      "image/png": "[encoded data removed]",
      "text/plain": [
       "<Figure size 600x200 with 1 Axes>"
      ]
     },
     "metadata": {},
     "output_type": "display_data"
    }
   ],
   "source": [
    "## Aqui é óbvio a quantidade de outliers, terei de lidar com isso, antes de construir o modelo.\n",
    "display(data['video_comment_count'].quantile(0.75), data['video_comment_count'].max() ) #Para confirmar os outliers, 75% dos dados estão abaixo de 292 comentários.\n",
    "plt.figure(figsize=(6,2))\n",
    "sns.boxplot(data=data, x='video_comment_count', color='#3274a1', fliersize=5)\n",
    "plt.show()"
   ]
  },
  {
   "cell_type": "markdown",
   "metadata": {},
   "source": [
    "### Transformação dos Outliers\n",
    "Como visto nos visuais acima, na columa de quantidade de comentários a diferença entre o 3 quartil e o valor máximo de número de comentários é bem grande.\n",
    "\n",
    "Modelos de regressão linear, são muito sensíveis a outliers, dessa forma é importante lidar com eles, visto que essa variável será importante para o modelo.\n",
    "\n",
    "A técnica a ser usada aqui é uma das mais simples, onde é dado aos valores discrepantes o valor do 3 quartil + (iqr * 1.5)"
   ]
  },
  {
   "cell_type": "code",
   "execution_count": 161,
   "metadata": {},
   "outputs": [],
   "source": [
    "# `Normalizando` outliers da coluna video_comment_count.\n",
    "\n",
    "percentile25 = data[\"video_comment_count\"].quantile(0.25)\n",
    "percentile75 = data[\"video_comment_count\"].quantile(0.75)\n",
    "\n",
    "iqr = percentile75 - percentile25\n",
    "upper_limit = percentile75 + 1.5 * iqr\n",
    "data.loc[data[\"video_comment_count\"] > upper_limit, \"video_comment_count\"] = upper_limit"
   ]
  },
  {
   "cell_type": "code",
   "execution_count": 162,
   "metadata": {},
   "outputs": [
    {
     "data": {
      "text/plain": [
       "np.float64(728.5)"
      ]
     },
     "execution_count": 162,
     "metadata": {},
     "output_type": "execute_result"
    }
   ],
   "source": [
    "#Confirmando que os outliers foram normalizados.\n",
    "data[\"video_comment_count\"].max()"
   ]
  },
  {
   "cell_type": "markdown",
   "metadata": {},
   "source": [
    "### Verificando a proporção dos dados da variável de interesse"
   ]
  },
  {
   "cell_type": "code",
   "execution_count": 163,
   "metadata": {},
   "outputs": [],
   "source": [
    "# Import packages for data preprocessing\n",
    "from sklearn.preprocessing import OneHotEncoder\n",
    "from sklearn.feature_extraction.text import CountVectorizer, TfidfVectorizer\n",
    "from sklearn.utils import resample"
   ]
  },
  {
   "cell_type": "code",
   "execution_count": 164,
   "metadata": {},
   "outputs": [
    {
     "data": {
      "application/vnd.microsoft.datawrangler.viewer.v0+json": {
       "columns": [
        {
         "name": "verified_status",
         "rawType": "object",
         "type": "string"
        },
        {
         "name": "proportion",
         "rawType": "float64",
         "type": "float"
        }
       ],
       "ref": "1984afb9-8d57-4a81-bca2-c5910c4095f5",
       "rows": [
        [
         "not verified",
         "0.937120100607839"
        ],
        [
         "verified",
         "0.06287989939216097"
        ]
       ],
       "shape": {
        "columns": 1,
        "rows": 2
       }
      },
      "text/plain": [
       "verified_status\n",
       "not verified    0.93712\n",
       "verified        0.06288\n",
       "Name: proportion, dtype: float64"
      ]
     },
     "execution_count": 164,
     "metadata": {},
     "output_type": "execute_result"
    }
   ],
   "source": [
    "# Checando a proporção de cada classe na coluna verified_status\n",
    "data['verified_status'].value_counts(normalize=True)\n",
    "# Essa proporção mostra que a classe \"not verified\" é muito maior que a classe \"verified\",\n",
    "# o que indica um desbalanceamento de classes."
   ]
  },
  {
   "cell_type": "markdown",
   "metadata": {},
   "source": [
    "💡 Como há uma grande desproporção entre contas não verificadas e verificadas, é necessário balancear as classes antes de treinar o modelo de regressão logística. \n",
    "\n",
    "Isso é importante porque modelos de classificação podem ser tendenciosos em relação à classe majoritária, resultando em baixa capacidade de prever corretamente a classe minoritária. \n",
    "\n",
    "O balanceamento garante que o modelo aprenda a identificar ambas as classes de forma mais justa e eficaz."
   ]
  },
  {
   "cell_type": "markdown",
   "metadata": {},
   "source": [
    "### Balanceamento de classes\n",
    "\n",
    "<div style=\"background-color: #f8f9fa; border-left: 5px solid #ffcf47; padding: 10px 15px; margin-top: 1em;\">\n",
    "  <p>\n",
    "  ⚠️ Se o modelo for construído sobre classes com proporções muito discrepantes — como neste caso, em que cerca de <b>94%</b> das contas são não verificadas — ele pode se tornar enviesado, favorecendo a classe majoritária. \n",
    "Isso ocorre porque o algoritmo tende a aprender mais sobre a classe mais frequente, resultando em baixa capacidade de identificar corretamente a classe minoritária (contas verificadas).\n",
    "  </p>\n",
    "</div>\n",
    "\n",
    "🟢O balanceamento das classes é fundamental para garantir que o modelo de regressão logística aprenda a reconhecer padrões relevantes em ambas as classes, proporcionando previsões mais justas e eficazes. Técnicas como oversampling (aumentar a classe minoritária) ou undersampling (reduzir a classe majoritária) são comumente utilizadas para corrigir esse desequilíbrio antes do treinamento do modelo."
   ]
  },
  {
   "cell_type": "code",
   "execution_count": 165,
   "metadata": {},
   "outputs": [
    {
     "data": {
      "application/vnd.microsoft.datawrangler.viewer.v0+json": {
       "columns": [
        {
         "name": "index",
         "rawType": "int64",
         "type": "integer"
        },
        {
         "name": "#",
         "rawType": "int64",
         "type": "integer"
        },
        {
         "name": "claim_status",
         "rawType": "object",
         "type": "string"
        },
        {
         "name": "video_id",
         "rawType": "int64",
         "type": "integer"
        },
        {
         "name": "video_duration_sec",
         "rawType": "int64",
         "type": "integer"
        },
        {
         "name": "video_transcription_text",
         "rawType": "object",
         "type": "string"
        },
        {
         "name": "verified_status",
         "rawType": "object",
         "type": "string"
        },
        {
         "name": "author_ban_status",
         "rawType": "object",
         "type": "string"
        },
        {
         "name": "video_view_count",
         "rawType": "float64",
         "type": "float"
        },
        {
         "name": "video_like_count",
         "rawType": "float64",
         "type": "float"
        },
        {
         "name": "video_share_count",
         "rawType": "float64",
         "type": "float"
        },
        {
         "name": "video_download_count",
         "rawType": "float64",
         "type": "float"
        },
        {
         "name": "video_comment_count",
         "rawType": "float64",
         "type": "float"
        }
       ],
       "ref": "ae6b9289-2bfd-49d4-9cf9-5c5690ca37cc",
       "rows": [
        [
         "0",
         "1",
         "claim",
         "7017666017",
         "59",
         "someone shared with me that drone deliveries are already happening and will become common by 2025",
         "not verified",
         "under review",
         "343296.0",
         "19425.0",
         "241.0",
         "1.0",
         "0.0"
        ],
        [
         "1",
         "2",
         "claim",
         "4014381136",
         "32",
         "someone shared with me that there are more microorganisms in one teaspoon of soil than people on the planet",
         "not verified",
         "active",
         "140877.0",
         "77355.0",
         "19034.0",
         "1161.0",
         "684.0"
        ],
        [
         "2",
         "3",
         "claim",
         "9859838091",
         "31",
         "someone shared with me that american industrialist andrew carnegie had a net worth of $475 million usd, worth over $300 billion usd today",
         "not verified",
         "active",
         "902185.0",
         "97690.0",
         "2858.0",
         "833.0",
         "329.0"
        ],
        [
         "3",
         "4",
         "claim",
         "1866847991",
         "25",
         "someone shared with me that the metro of st. petersburg, with an average depth of hundred meters, is the deepest metro in the world",
         "not verified",
         "active",
         "437506.0",
         "239954.0",
         "34812.0",
         "1234.0",
         "584.0"
        ],
        [
         "4",
         "5",
         "claim",
         "7105231098",
         "19",
         "someone shared with me that the number of businesses allowing employees to bring pets to the workplace has grown by 6% worldwide",
         "not verified",
         "active",
         "56167.0",
         "34987.0",
         "4110.0",
         "547.0",
         "152.0"
        ]
       ],
       "shape": {
        "columns": 12,
        "rows": 5
       }
      },
      "text/html": [
       "<div>\n",
       "<style scoped>\n",
       "    .dataframe tbody tr th:only-of-type {\n",
       "        vertical-align: middle;\n",
       "    }\n",
       "\n",
       "    .dataframe tbody tr th {\n",
       "        vertical-align: top;\n",
       "    }\n",
       "\n",
       "    .dataframe thead th {\n",
       "        text-align: right;\n",
       "    }\n",
       "</style>\n",
       "<table border=\"1\" class=\"dataframe\">\n",
       "  <thead>\n",
       "    <tr style=\"text-align: right;\">\n",
       "      <th></th>\n",
       "      <th>#</th>\n",
       "      <th>claim_status</th>\n",
       "      <th>video_id</th>\n",
       "      <th>video_duration_sec</th>\n",
       "      <th>video_transcription_text</th>\n",
       "      <th>verified_status</th>\n",
       "      <th>author_ban_status</th>\n",
       "      <th>video_view_count</th>\n",
       "      <th>video_like_count</th>\n",
       "      <th>video_share_count</th>\n",
       "      <th>video_download_count</th>\n",
       "      <th>video_comment_count</th>\n",
       "    </tr>\n",
       "  </thead>\n",
       "  <tbody>\n",
       "    <tr>\n",
       "      <th>0</th>\n",
       "      <td>1</td>\n",
       "      <td>claim</td>\n",
       "      <td>7017666017</td>\n",
       "      <td>59</td>\n",
       "      <td>someone shared with me that drone deliveries a...</td>\n",
       "      <td>not verified</td>\n",
       "      <td>under review</td>\n",
       "      <td>343296.0</td>\n",
       "      <td>19425.0</td>\n",
       "      <td>241.0</td>\n",
       "      <td>1.0</td>\n",
       "      <td>0.0</td>\n",
       "    </tr>\n",
       "    <tr>\n",
       "      <th>1</th>\n",
       "      <td>2</td>\n",
       "      <td>claim</td>\n",
       "      <td>4014381136</td>\n",
       "      <td>32</td>\n",
       "      <td>someone shared with me that there are more mic...</td>\n",
       "      <td>not verified</td>\n",
       "      <td>active</td>\n",
       "      <td>140877.0</td>\n",
       "      <td>77355.0</td>\n",
       "      <td>19034.0</td>\n",
       "      <td>1161.0</td>\n",
       "      <td>684.0</td>\n",
       "    </tr>\n",
       "    <tr>\n",
       "      <th>2</th>\n",
       "      <td>3</td>\n",
       "      <td>claim</td>\n",
       "      <td>9859838091</td>\n",
       "      <td>31</td>\n",
       "      <td>someone shared with me that american industria...</td>\n",
       "      <td>not verified</td>\n",
       "      <td>active</td>\n",
       "      <td>902185.0</td>\n",
       "      <td>97690.0</td>\n",
       "      <td>2858.0</td>\n",
       "      <td>833.0</td>\n",
       "      <td>329.0</td>\n",
       "    </tr>\n",
       "    <tr>\n",
       "      <th>3</th>\n",
       "      <td>4</td>\n",
       "      <td>claim</td>\n",
       "      <td>1866847991</td>\n",
       "      <td>25</td>\n",
       "      <td>someone shared with me that the metro of st. p...</td>\n",
       "      <td>not verified</td>\n",
       "      <td>active</td>\n",
       "      <td>437506.0</td>\n",
       "      <td>239954.0</td>\n",
       "      <td>34812.0</td>\n",
       "      <td>1234.0</td>\n",
       "      <td>584.0</td>\n",
       "    </tr>\n",
       "    <tr>\n",
       "      <th>4</th>\n",
       "      <td>5</td>\n",
       "      <td>claim</td>\n",
       "      <td>7105231098</td>\n",
       "      <td>19</td>\n",
       "      <td>someone shared with me that the number of busi...</td>\n",
       "      <td>not verified</td>\n",
       "      <td>active</td>\n",
       "      <td>56167.0</td>\n",
       "      <td>34987.0</td>\n",
       "      <td>4110.0</td>\n",
       "      <td>547.0</td>\n",
       "      <td>152.0</td>\n",
       "    </tr>\n",
       "  </tbody>\n",
       "</table>\n",
       "</div>"
      ],
      "text/plain": [
       "   # claim_status    video_id  video_duration_sec  \\\n",
       "0  1        claim  7017666017                  59   \n",
       "1  2        claim  4014381136                  32   \n",
       "2  3        claim  9859838091                  31   \n",
       "3  4        claim  1866847991                  25   \n",
       "4  5        claim  7105231098                  19   \n",
       "\n",
       "                            video_transcription_text verified_status  \\\n",
       "0  someone shared with me that drone deliveries a...    not verified   \n",
       "1  someone shared with me that there are more mic...    not verified   \n",
       "2  someone shared with me that american industria...    not verified   \n",
       "3  someone shared with me that the metro of st. p...    not verified   \n",
       "4  someone shared with me that the number of busi...    not verified   \n",
       "\n",
       "  author_ban_status  video_view_count  video_like_count  video_share_count  \\\n",
       "0      under review          343296.0           19425.0              241.0   \n",
       "1            active          140877.0           77355.0            19034.0   \n",
       "2            active          902185.0           97690.0             2858.0   \n",
       "3            active          437506.0          239954.0            34812.0   \n",
       "4            active           56167.0           34987.0             4110.0   \n",
       "\n",
       "   video_download_count  video_comment_count  \n",
       "0                   1.0                  0.0  \n",
       "1                1161.0                684.0  \n",
       "2                 833.0                329.0  \n",
       "3                1234.0                584.0  \n",
       "4                 547.0                152.0  "
      ]
     },
     "execution_count": 165,
     "metadata": {},
     "output_type": "execute_result"
    }
   ],
   "source": [
    "data_majority = data[data['verified_status'] == 'not verified']\n",
    "data_minority = data[data['verified_status'] == 'verified']\n",
    "\n",
    "data_minority_upsampled = resample(\n",
    "        data_minority,\n",
    "        replace=True,  # Sample com replacement\n",
    "        n_samples=len(data_majority),  # Igualar o tamanho do Dataframe \"data_majority\"\n",
    "        random_state=42  # Resultados reprodutíveis\n",
    "    )\n",
    "#data_minority_upsampled.head()\n",
    "\n",
    "data_upsampled = pd.concat([data_majority, data_minority_upsampled]).reset_index(drop=True)\n",
    "data_upsampled.head()"
   ]
  },
  {
   "cell_type": "code",
   "execution_count": 166,
   "metadata": {},
   "outputs": [
    {
     "data": {
      "application/vnd.microsoft.datawrangler.viewer.v0+json": {
       "columns": [
        {
         "name": "verified_status",
         "rawType": "object",
         "type": "string"
        },
        {
         "name": "proportion",
         "rawType": "float64",
         "type": "float"
        }
       ],
       "ref": "7b0f7a64-490e-456c-bdd3-f0c7163e3b20",
       "rows": [
        [
         "not verified",
         "0.5"
        ],
        [
         "verified",
         "0.5"
        ]
       ],
       "shape": {
        "columns": 1,
        "rows": 2
       }
      },
      "text/plain": [
       "verified_status\n",
       "not verified    0.5\n",
       "verified        0.5\n",
       "Name: proportion, dtype: float64"
      ]
     },
     "execution_count": 166,
     "metadata": {},
     "output_type": "execute_result"
    }
   ],
   "source": [
    "data_upsampled[\"verified_status\"].value_counts(normalize=True)\n",
    "# Agora com as classes igualmente balanceadas, podemos prosseguir com a análise e construção do modelo."
   ]
  },
  {
   "cell_type": "markdown",
   "metadata": {},
   "source": [
    "🟢 <i> Agora com as classes balanceadas, pode-se prosseguir para as etapas sequenciais. </i>"
   ]
  },
  {
   "cell_type": "code",
   "execution_count": 167,
   "metadata": {},
   "outputs": [
    {
     "data": {
      "application/vnd.microsoft.datawrangler.viewer.v0+json": {
       "columns": [
        {
         "name": "index",
         "rawType": "int64",
         "type": "integer"
        },
        {
         "name": "#",
         "rawType": "int64",
         "type": "integer"
        },
        {
         "name": "claim_status",
         "rawType": "object",
         "type": "string"
        },
        {
         "name": "video_id",
         "rawType": "int64",
         "type": "integer"
        },
        {
         "name": "video_duration_sec",
         "rawType": "int64",
         "type": "integer"
        },
        {
         "name": "video_transcription_text",
         "rawType": "object",
         "type": "string"
        },
        {
         "name": "verified_status",
         "rawType": "object",
         "type": "string"
        },
        {
         "name": "author_ban_status",
         "rawType": "object",
         "type": "string"
        },
        {
         "name": "video_view_count",
         "rawType": "float64",
         "type": "float"
        },
        {
         "name": "video_like_count",
         "rawType": "float64",
         "type": "float"
        },
        {
         "name": "video_share_count",
         "rawType": "float64",
         "type": "float"
        },
        {
         "name": "video_download_count",
         "rawType": "float64",
         "type": "float"
        },
        {
         "name": "video_comment_count",
         "rawType": "float64",
         "type": "float"
        },
        {
         "name": "text_length",
         "rawType": "int64",
         "type": "integer"
        }
       ],
       "ref": "4a92422f-7c5f-4f36-afcc-33558c30f29a",
       "rows": [
        [
         "0",
         "1",
         "claim",
         "7017666017",
         "59",
         "someone shared with me that drone deliveries are already happening and will become common by 2025",
         "not verified",
         "under review",
         "343296.0",
         "19425.0",
         "241.0",
         "1.0",
         "0.0",
         "97"
        ],
        [
         "1",
         "2",
         "claim",
         "4014381136",
         "32",
         "someone shared with me that there are more microorganisms in one teaspoon of soil than people on the planet",
         "not verified",
         "active",
         "140877.0",
         "77355.0",
         "19034.0",
         "1161.0",
         "684.0",
         "107"
        ],
        [
         "2",
         "3",
         "claim",
         "9859838091",
         "31",
         "someone shared with me that american industrialist andrew carnegie had a net worth of $475 million usd, worth over $300 billion usd today",
         "not verified",
         "active",
         "902185.0",
         "97690.0",
         "2858.0",
         "833.0",
         "329.0",
         "137"
        ],
        [
         "3",
         "4",
         "claim",
         "1866847991",
         "25",
         "someone shared with me that the metro of st. petersburg, with an average depth of hundred meters, is the deepest metro in the world",
         "not verified",
         "active",
         "437506.0",
         "239954.0",
         "34812.0",
         "1234.0",
         "584.0",
         "131"
        ],
        [
         "4",
         "5",
         "claim",
         "7105231098",
         "19",
         "someone shared with me that the number of businesses allowing employees to bring pets to the workplace has grown by 6% worldwide",
         "not verified",
         "active",
         "56167.0",
         "34987.0",
         "4110.0",
         "547.0",
         "152.0",
         "128"
        ]
       ],
       "shape": {
        "columns": 13,
        "rows": 5
       }
      },
      "text/html": [
       "<div>\n",
       "<style scoped>\n",
       "    .dataframe tbody tr th:only-of-type {\n",
       "        vertical-align: middle;\n",
       "    }\n",
       "\n",
       "    .dataframe tbody tr th {\n",
       "        vertical-align: top;\n",
       "    }\n",
       "\n",
       "    .dataframe thead th {\n",
       "        text-align: right;\n",
       "    }\n",
       "</style>\n",
       "<table border=\"1\" class=\"dataframe\">\n",
       "  <thead>\n",
       "    <tr style=\"text-align: right;\">\n",
       "      <th></th>\n",
       "      <th>#</th>\n",
       "      <th>claim_status</th>\n",
       "      <th>video_id</th>\n",
       "      <th>video_duration_sec</th>\n",
       "      <th>video_transcription_text</th>\n",
       "      <th>verified_status</th>\n",
       "      <th>author_ban_status</th>\n",
       "      <th>video_view_count</th>\n",
       "      <th>video_like_count</th>\n",
       "      <th>video_share_count</th>\n",
       "      <th>video_download_count</th>\n",
       "      <th>video_comment_count</th>\n",
       "      <th>text_length</th>\n",
       "    </tr>\n",
       "  </thead>\n",
       "  <tbody>\n",
       "    <tr>\n",
       "      <th>0</th>\n",
       "      <td>1</td>\n",
       "      <td>claim</td>\n",
       "      <td>7017666017</td>\n",
       "      <td>59</td>\n",
       "      <td>someone shared with me that drone deliveries a...</td>\n",
       "      <td>not verified</td>\n",
       "      <td>under review</td>\n",
       "      <td>343296.0</td>\n",
       "      <td>19425.0</td>\n",
       "      <td>241.0</td>\n",
       "      <td>1.0</td>\n",
       "      <td>0.0</td>\n",
       "      <td>97</td>\n",
       "    </tr>\n",
       "    <tr>\n",
       "      <th>1</th>\n",
       "      <td>2</td>\n",
       "      <td>claim</td>\n",
       "      <td>4014381136</td>\n",
       "      <td>32</td>\n",
       "      <td>someone shared with me that there are more mic...</td>\n",
       "      <td>not verified</td>\n",
       "      <td>active</td>\n",
       "      <td>140877.0</td>\n",
       "      <td>77355.0</td>\n",
       "      <td>19034.0</td>\n",
       "      <td>1161.0</td>\n",
       "      <td>684.0</td>\n",
       "      <td>107</td>\n",
       "    </tr>\n",
       "    <tr>\n",
       "      <th>2</th>\n",
       "      <td>3</td>\n",
       "      <td>claim</td>\n",
       "      <td>9859838091</td>\n",
       "      <td>31</td>\n",
       "      <td>someone shared with me that american industria...</td>\n",
       "      <td>not verified</td>\n",
       "      <td>active</td>\n",
       "      <td>902185.0</td>\n",
       "      <td>97690.0</td>\n",
       "      <td>2858.0</td>\n",
       "      <td>833.0</td>\n",
       "      <td>329.0</td>\n",
       "      <td>137</td>\n",
       "    </tr>\n",
       "    <tr>\n",
       "      <th>3</th>\n",
       "      <td>4</td>\n",
       "      <td>claim</td>\n",
       "      <td>1866847991</td>\n",
       "      <td>25</td>\n",
       "      <td>someone shared with me that the metro of st. p...</td>\n",
       "      <td>not verified</td>\n",
       "      <td>active</td>\n",
       "      <td>437506.0</td>\n",
       "      <td>239954.0</td>\n",
       "      <td>34812.0</td>\n",
       "      <td>1234.0</td>\n",
       "      <td>584.0</td>\n",
       "      <td>131</td>\n",
       "    </tr>\n",
       "    <tr>\n",
       "      <th>4</th>\n",
       "      <td>5</td>\n",
       "      <td>claim</td>\n",
       "      <td>7105231098</td>\n",
       "      <td>19</td>\n",
       "      <td>someone shared with me that the number of busi...</td>\n",
       "      <td>not verified</td>\n",
       "      <td>active</td>\n",
       "      <td>56167.0</td>\n",
       "      <td>34987.0</td>\n",
       "      <td>4110.0</td>\n",
       "      <td>547.0</td>\n",
       "      <td>152.0</td>\n",
       "      <td>128</td>\n",
       "    </tr>\n",
       "  </tbody>\n",
       "</table>\n",
       "</div>"
      ],
      "text/plain": [
       "   # claim_status    video_id  video_duration_sec  \\\n",
       "0  1        claim  7017666017                  59   \n",
       "1  2        claim  4014381136                  32   \n",
       "2  3        claim  9859838091                  31   \n",
       "3  4        claim  1866847991                  25   \n",
       "4  5        claim  7105231098                  19   \n",
       "\n",
       "                            video_transcription_text verified_status  \\\n",
       "0  someone shared with me that drone deliveries a...    not verified   \n",
       "1  someone shared with me that there are more mic...    not verified   \n",
       "2  someone shared with me that american industria...    not verified   \n",
       "3  someone shared with me that the metro of st. p...    not verified   \n",
       "4  someone shared with me that the number of busi...    not verified   \n",
       "\n",
       "  author_ban_status  video_view_count  video_like_count  video_share_count  \\\n",
       "0      under review          343296.0           19425.0              241.0   \n",
       "1            active          140877.0           77355.0            19034.0   \n",
       "2            active          902185.0           97690.0             2858.0   \n",
       "3            active          437506.0          239954.0            34812.0   \n",
       "4            active           56167.0           34987.0             4110.0   \n",
       "\n",
       "   video_download_count  video_comment_count  text_length  \n",
       "0                   1.0                  0.0           97  \n",
       "1                1161.0                684.0          107  \n",
       "2                 833.0                329.0          137  \n",
       "3                1234.0                584.0          131  \n",
       "4                 547.0                152.0          128  "
      ]
     },
     "execution_count": 167,
     "metadata": {},
     "output_type": "execute_result"
    }
   ],
   "source": [
    "data_upsampled['text_length'] = data_upsampled['video_transcription_text'].apply(lambda text: len(text) )\n",
    "data_upsampled.head() "
   ]
  },
  {
   "cell_type": "code",
   "execution_count": 168,
   "metadata": {},
   "outputs": [
    {
     "data": {
      "application/vnd.microsoft.datawrangler.viewer.v0+json": {
       "columns": [
        {
         "name": "index",
         "rawType": "object",
         "type": "string"
        },
        {
         "name": "#",
         "rawType": "float64",
         "type": "float"
        },
        {
         "name": "video_id",
         "rawType": "float64",
         "type": "float"
        },
        {
         "name": "video_duration_sec",
         "rawType": "float64",
         "type": "float"
        },
        {
         "name": "video_view_count",
         "rawType": "float64",
         "type": "float"
        },
        {
         "name": "video_like_count",
         "rawType": "float64",
         "type": "float"
        },
        {
         "name": "video_share_count",
         "rawType": "float64",
         "type": "float"
        },
        {
         "name": "video_download_count",
         "rawType": "float64",
         "type": "float"
        },
        {
         "name": "video_comment_count",
         "rawType": "float64",
         "type": "float"
        },
        {
         "name": "text_length",
         "rawType": "float64",
         "type": "float"
        }
       ],
       "ref": "9de1deda-3c11-42aa-a481-eb351791f63a",
       "rows": [
        [
         "#",
         "1.0",
         "-0.0013685846397820524",
         "-0.01179973955689149",
         "-0.698969301704169",
         "-0.5807051684300473",
         "-0.503633533773152",
         "-0.48975787316651637",
         "-0.6107626921899983",
         "-0.19681655717579608"
        ],
        [
         "video_id",
         "-0.0013685846397820524",
         "1.0",
         "0.013938421936309741",
         "0.0016072936882377553",
         "0.005167245962467436",
         "0.009136401063917747",
         "0.0068140272897394185",
         "0.010564199081051764",
         "-0.0076338779849150495"
        ],
        [
         "video_duration_sec",
         "-0.01179973955689149",
         "0.013938421936309741",
         "1.0",
         "0.013891969576682983",
         "0.004610379118510207",
         "0.0019437098101795633",
         "0.0069298456968813465",
         "-7.968734328380599e-05",
         "-0.00504344028359453"
        ],
        [
         "video_view_count",
         "-0.698969301704169",
         "0.0016072936882377553",
         "0.013891969576682983",
         "1.0",
         "0.8308426343455628",
         "0.7104662951179337",
         "0.6915566847511623",
         "0.7475644742058353",
         "0.24686730987361422"
        ],
        [
         "video_like_count",
         "-0.5807051684300473",
         "0.005167245962467436",
         "0.004610379118510207",
         "0.8308426343455628",
         "1.0",
         "0.8512623227424136",
         "0.8286366876126522",
         "0.7794814668150305",
         "0.20464666998222264"
        ],
        [
         "video_share_count",
         "-0.503633533773152",
         "0.009136401063917747",
         "0.0019437098101795633",
         "0.7104662951179337",
         "0.8512623227424136",
         "1.0",
         "0.7097382817590082",
         "0.6716008707705581",
         "0.17636169597005816"
        ],
        [
         "video_download_count",
         "-0.48975787316651637",
         "0.0068140272897394185",
         "0.0069298456968813465",
         "0.6915566847511623",
         "0.8286366876126522",
         "0.7097382817590082",
         "1.0",
         "0.794523781815377",
         "0.17528722277894165"
        ],
        [
         "video_comment_count",
         "-0.6107626921899983",
         "0.010564199081051764",
         "-7.968734328380599e-05",
         "0.7475644742058353",
         "0.7794814668150305",
         "0.6716008707705581",
         "0.794523781815377",
         "1.0",
         "0.21717949362658617"
        ],
        [
         "text_length",
         "-0.19681655717579608",
         "-0.0076338779849150495",
         "-0.00504344028359453",
         "0.24686730987361422",
         "0.20464666998222264",
         "0.17636169597005816",
         "0.17528722277894165",
         "0.21717949362658617",
         "1.0"
        ]
       ],
       "shape": {
        "columns": 9,
        "rows": 9
       }
      },
      "text/html": [
       "<div>\n",
       "<style scoped>\n",
       "    .dataframe tbody tr th:only-of-type {\n",
       "        vertical-align: middle;\n",
       "    }\n",
       "\n",
       "    .dataframe tbody tr th {\n",
       "        vertical-align: top;\n",
       "    }\n",
       "\n",
       "    .dataframe thead th {\n",
       "        text-align: right;\n",
       "    }\n",
       "</style>\n",
       "<table border=\"1\" class=\"dataframe\">\n",
       "  <thead>\n",
       "    <tr style=\"text-align: right;\">\n",
       "      <th></th>\n",
       "      <th>#</th>\n",
       "      <th>video_id</th>\n",
       "      <th>video_duration_sec</th>\n",
       "      <th>video_view_count</th>\n",
       "      <th>video_like_count</th>\n",
       "      <th>video_share_count</th>\n",
       "      <th>video_download_count</th>\n",
       "      <th>video_comment_count</th>\n",
       "      <th>text_length</th>\n",
       "    </tr>\n",
       "  </thead>\n",
       "  <tbody>\n",
       "    <tr>\n",
       "      <th>#</th>\n",
       "      <td>1.000000</td>\n",
       "      <td>-0.001369</td>\n",
       "      <td>-0.011800</td>\n",
       "      <td>-0.698969</td>\n",
       "      <td>-0.580705</td>\n",
       "      <td>-0.503634</td>\n",
       "      <td>-0.489758</td>\n",
       "      <td>-0.610763</td>\n",
       "      <td>-0.196817</td>\n",
       "    </tr>\n",
       "    <tr>\n",
       "      <th>video_id</th>\n",
       "      <td>-0.001369</td>\n",
       "      <td>1.000000</td>\n",
       "      <td>0.013938</td>\n",
       "      <td>0.001607</td>\n",
       "      <td>0.005167</td>\n",
       "      <td>0.009136</td>\n",
       "      <td>0.006814</td>\n",
       "      <td>0.010564</td>\n",
       "      <td>-0.007634</td>\n",
       "    </tr>\n",
       "    <tr>\n",
       "      <th>video_duration_sec</th>\n",
       "      <td>-0.011800</td>\n",
       "      <td>0.013938</td>\n",
       "      <td>1.000000</td>\n",
       "      <td>0.013892</td>\n",
       "      <td>0.004610</td>\n",
       "      <td>0.001944</td>\n",
       "      <td>0.006930</td>\n",
       "      <td>-0.000080</td>\n",
       "      <td>-0.005043</td>\n",
       "    </tr>\n",
       "    <tr>\n",
       "      <th>video_view_count</th>\n",
       "      <td>-0.698969</td>\n",
       "      <td>0.001607</td>\n",
       "      <td>0.013892</td>\n",
       "      <td>1.000000</td>\n",
       "      <td>0.830843</td>\n",
       "      <td>0.710466</td>\n",
       "      <td>0.691557</td>\n",
       "      <td>0.747564</td>\n",
       "      <td>0.246867</td>\n",
       "    </tr>\n",
       "    <tr>\n",
       "      <th>video_like_count</th>\n",
       "      <td>-0.580705</td>\n",
       "      <td>0.005167</td>\n",
       "      <td>0.004610</td>\n",
       "      <td>0.830843</td>\n",
       "      <td>1.000000</td>\n",
       "      <td>0.851262</td>\n",
       "      <td>0.828637</td>\n",
       "      <td>0.779481</td>\n",
       "      <td>0.204647</td>\n",
       "    </tr>\n",
       "    <tr>\n",
       "      <th>video_share_count</th>\n",
       "      <td>-0.503634</td>\n",
       "      <td>0.009136</td>\n",
       "      <td>0.001944</td>\n",
       "      <td>0.710466</td>\n",
       "      <td>0.851262</td>\n",
       "      <td>1.000000</td>\n",
       "      <td>0.709738</td>\n",
       "      <td>0.671601</td>\n",
       "      <td>0.176362</td>\n",
       "    </tr>\n",
       "    <tr>\n",
       "      <th>video_download_count</th>\n",
       "      <td>-0.489758</td>\n",
       "      <td>0.006814</td>\n",
       "      <td>0.006930</td>\n",
       "      <td>0.691557</td>\n",
       "      <td>0.828637</td>\n",
       "      <td>0.709738</td>\n",
       "      <td>1.000000</td>\n",
       "      <td>0.794524</td>\n",
       "      <td>0.175287</td>\n",
       "    </tr>\n",
       "    <tr>\n",
       "      <th>video_comment_count</th>\n",
       "      <td>-0.610763</td>\n",
       "      <td>0.010564</td>\n",
       "      <td>-0.000080</td>\n",
       "      <td>0.747564</td>\n",
       "      <td>0.779481</td>\n",
       "      <td>0.671601</td>\n",
       "      <td>0.794524</td>\n",
       "      <td>1.000000</td>\n",
       "      <td>0.217179</td>\n",
       "    </tr>\n",
       "    <tr>\n",
       "      <th>text_length</th>\n",
       "      <td>-0.196817</td>\n",
       "      <td>-0.007634</td>\n",
       "      <td>-0.005043</td>\n",
       "      <td>0.246867</td>\n",
       "      <td>0.204647</td>\n",
       "      <td>0.176362</td>\n",
       "      <td>0.175287</td>\n",
       "      <td>0.217179</td>\n",
       "      <td>1.000000</td>\n",
       "    </tr>\n",
       "  </tbody>\n",
       "</table>\n",
       "</div>"
      ],
      "text/plain": [
       "                             #  video_id  video_duration_sec  \\\n",
       "#                     1.000000 -0.001369           -0.011800   \n",
       "video_id             -0.001369  1.000000            0.013938   \n",
       "video_duration_sec   -0.011800  0.013938            1.000000   \n",
       "video_view_count     -0.698969  0.001607            0.013892   \n",
       "video_like_count     -0.580705  0.005167            0.004610   \n",
       "video_share_count    -0.503634  0.009136            0.001944   \n",
       "video_download_count -0.489758  0.006814            0.006930   \n",
       "video_comment_count  -0.610763  0.010564           -0.000080   \n",
       "text_length          -0.196817 -0.007634           -0.005043   \n",
       "\n",
       "                      video_view_count  video_like_count  video_share_count  \\\n",
       "#                            -0.698969         -0.580705          -0.503634   \n",
       "video_id                      0.001607          0.005167           0.009136   \n",
       "video_duration_sec            0.013892          0.004610           0.001944   \n",
       "video_view_count              1.000000          0.830843           0.710466   \n",
       "video_like_count              0.830843          1.000000           0.851262   \n",
       "video_share_count             0.710466          0.851262           1.000000   \n",
       "video_download_count          0.691557          0.828637           0.709738   \n",
       "video_comment_count           0.747564          0.779481           0.671601   \n",
       "text_length                   0.246867          0.204647           0.176362   \n",
       "\n",
       "                      video_download_count  video_comment_count  text_length  \n",
       "#                                -0.489758            -0.610763    -0.196817  \n",
       "video_id                          0.006814             0.010564    -0.007634  \n",
       "video_duration_sec                0.006930            -0.000080    -0.005043  \n",
       "video_view_count                  0.691557             0.747564     0.246867  \n",
       "video_like_count                  0.828637             0.779481     0.204647  \n",
       "video_share_count                 0.709738             0.671601     0.176362  \n",
       "video_download_count              1.000000             0.794524     0.175287  \n",
       "video_comment_count               0.794524             1.000000     0.217179  \n",
       "text_length                       0.175287             0.217179     1.000000  "
      ]
     },
     "execution_count": 168,
     "metadata": {},
     "output_type": "execute_result"
    }
   ],
   "source": [
    "# Verificando a relação entre as variáveis numéricas, incluindo a nova coluna 'text_length' que foi adicionada.\n",
    "data_upsampled.corr(numeric_only=True)"
   ]
  },
  {
   "cell_type": "code",
   "execution_count": 169,
   "metadata": {},
   "outputs": [
    {
     "data": {
      "text/plain": [
       "<Axes: xlabel='text_length', ylabel='Count'>"
      ]
     },
     "execution_count": 169,
     "metadata": {},
     "output_type": "execute_result"
    },
    {
     "data": {
      "image/png": "[encoded data removed]",
      "text/plain": [
       "<Figure size 640x480 with 1 Axes>"
      ]
     },
     "metadata": {},
     "output_type": "display_data"
    }
   ],
   "source": [
    "# Checando a relação entre o comprimento do texto e o status de verificação. \n",
    "# Parece que contas não verificadas tendem a ter transcrições mais longas, indicando que mais palavras são faladas em seus vídeos \n",
    "# em comparação com contas verificadas.\n",
    "sns.histplot(data=data_upsampled, stat=\"count\", multiple=\"stack\", x=\"text_length\", kde=False, palette=\"crest\", \n",
    "             hue=\"verified_status\", element=\"bars\", legend=True)"
   ]
  },
  {
   "cell_type": "markdown",
   "metadata": {},
   "source": [
    "<p style=\"background-color: #f3f3f3; color: #222;\">💭 Em geral, contas que <b>não são verificadas</b> tendem a ter transcrições mais longas, indicando que mais palavras são faladas em seus vídeos em comparação com contas verificadas.</p>"
   ]
  },
  {
   "cell_type": "code",
   "execution_count": 170,
   "metadata": {},
   "outputs": [
    {
     "data": {
      "text/plain": [
       "<Axes: >"
      ]
     },
     "execution_count": 170,
     "metadata": {},
     "output_type": "execute_result"
    },
    {
     "data": {
      "image/png": "[encoded data removed]",
      "text/plain": [
       "<Figure size 1000x800 with 2 Axes>"
      ]
     },
     "metadata": {},
     "output_type": "display_data"
    }
   ],
   "source": [
    "plt.figure(figsize=(10, 8))\n",
    "sns.heatmap(\n",
    "    data_upsampled[['text_length','video_id', 'video_duration_sec', 'video_view_count', 'video_like_count', 'video_share_count', 'video_download_count', 'video_comment_count']].\n",
    "    corr(numeric_only=True), annot=True, fmt=\".3f\", cmap=\"icefire\")"
   ]
  },
  {
   "cell_type": "markdown",
   "metadata": {},
   "source": [
    "<p style=\"background-color: #f3f3f3; color: #222;\"> Apesar de a variável 'text_lenght' ter apresentado uma possível relação entre contas não verificadas, ela não teve nenhuma correlação com outras variáveis do modelo. </p>"
   ]
  },
  {
   "cell_type": "markdown",
   "metadata": {},
   "source": [
    "### Selecionando as variáveis para o modelo"
   ]
  },
  {
   "cell_type": "markdown",
   "metadata": {},
   "source": [
    "A Variável de interesse desse projeto que deseja-se prever é `verified_status`, pois a ideia, relembrando, é sermos capazes de agir de forma rápida a possíveis posts que vão contra a política da plataforma, e que possam espalhar informações falsas, entre outras possibilidades, que aparentemente tendem a vir de contas `não verificadas`."
   ]
  },
  {
   "cell_type": "code",
   "execution_count": 171,
   "metadata": {},
   "outputs": [],
   "source": [
    "# Variável de previsão. Variável Dependente.\n",
    "y = data_upsampled['verified_status']"
   ]
  },
  {
   "cell_type": "code",
   "execution_count": 172,
   "metadata": {},
   "outputs": [
    {
     "data": {
      "application/vnd.microsoft.datawrangler.viewer.v0+json": {
       "columns": [
        {
         "name": "index",
         "rawType": "int64",
         "type": "integer"
        },
        {
         "name": "video_duration_sec",
         "rawType": "int64",
         "type": "integer"
        },
        {
         "name": "claim_status",
         "rawType": "object",
         "type": "string"
        },
        {
         "name": "author_ban_status",
         "rawType": "object",
         "type": "string"
        },
        {
         "name": "video_view_count",
         "rawType": "float64",
         "type": "float"
        },
        {
         "name": "video_share_count",
         "rawType": "float64",
         "type": "float"
        },
        {
         "name": "video_download_count",
         "rawType": "float64",
         "type": "float"
        },
        {
         "name": "video_comment_count",
         "rawType": "float64",
         "type": "float"
        },
        {
         "name": "text_length",
         "rawType": "int64",
         "type": "integer"
        }
       ],
       "ref": "f1f16654-6b63-4f6c-80e5-4f36490cf58a",
       "rows": [
        [
         "0",
         "59",
         "claim",
         "under review",
         "343296.0",
         "241.0",
         "1.0",
         "0.0",
         "97"
        ],
        [
         "1",
         "32",
         "claim",
         "active",
         "140877.0",
         "19034.0",
         "1161.0",
         "684.0",
         "107"
        ],
        [
         "2",
         "31",
         "claim",
         "active",
         "902185.0",
         "2858.0",
         "833.0",
         "329.0",
         "137"
        ],
        [
         "3",
         "25",
         "claim",
         "active",
         "437506.0",
         "34812.0",
         "1234.0",
         "584.0",
         "131"
        ],
        [
         "4",
         "19",
         "claim",
         "active",
         "56167.0",
         "4110.0",
         "547.0",
         "152.0",
         "128"
        ]
       ],
       "shape": {
        "columns": 8,
        "rows": 5
       }
      },
      "text/html": [
       "<div>\n",
       "<style scoped>\n",
       "    .dataframe tbody tr th:only-of-type {\n",
       "        vertical-align: middle;\n",
       "    }\n",
       "\n",
       "    .dataframe tbody tr th {\n",
       "        vertical-align: top;\n",
       "    }\n",
       "\n",
       "    .dataframe thead th {\n",
       "        text-align: right;\n",
       "    }\n",
       "</style>\n",
       "<table border=\"1\" class=\"dataframe\">\n",
       "  <thead>\n",
       "    <tr style=\"text-align: right;\">\n",
       "      <th></th>\n",
       "      <th>video_duration_sec</th>\n",
       "      <th>claim_status</th>\n",
       "      <th>author_ban_status</th>\n",
       "      <th>video_view_count</th>\n",
       "      <th>video_share_count</th>\n",
       "      <th>video_download_count</th>\n",
       "      <th>video_comment_count</th>\n",
       "      <th>text_length</th>\n",
       "    </tr>\n",
       "  </thead>\n",
       "  <tbody>\n",
       "    <tr>\n",
       "      <th>0</th>\n",
       "      <td>59</td>\n",
       "      <td>claim</td>\n",
       "      <td>under review</td>\n",
       "      <td>343296.0</td>\n",
       "      <td>241.0</td>\n",
       "      <td>1.0</td>\n",
       "      <td>0.0</td>\n",
       "      <td>97</td>\n",
       "    </tr>\n",
       "    <tr>\n",
       "      <th>1</th>\n",
       "      <td>32</td>\n",
       "      <td>claim</td>\n",
       "      <td>active</td>\n",
       "      <td>140877.0</td>\n",
       "      <td>19034.0</td>\n",
       "      <td>1161.0</td>\n",
       "      <td>684.0</td>\n",
       "      <td>107</td>\n",
       "    </tr>\n",
       "    <tr>\n",
       "      <th>2</th>\n",
       "      <td>31</td>\n",
       "      <td>claim</td>\n",
       "      <td>active</td>\n",
       "      <td>902185.0</td>\n",
       "      <td>2858.0</td>\n",
       "      <td>833.0</td>\n",
       "      <td>329.0</td>\n",
       "      <td>137</td>\n",
       "    </tr>\n",
       "    <tr>\n",
       "      <th>3</th>\n",
       "      <td>25</td>\n",
       "      <td>claim</td>\n",
       "      <td>active</td>\n",
       "      <td>437506.0</td>\n",
       "      <td>34812.0</td>\n",
       "      <td>1234.0</td>\n",
       "      <td>584.0</td>\n",
       "      <td>131</td>\n",
       "    </tr>\n",
       "    <tr>\n",
       "      <th>4</th>\n",
       "      <td>19</td>\n",
       "      <td>claim</td>\n",
       "      <td>active</td>\n",
       "      <td>56167.0</td>\n",
       "      <td>4110.0</td>\n",
       "      <td>547.0</td>\n",
       "      <td>152.0</td>\n",
       "      <td>128</td>\n",
       "    </tr>\n",
       "  </tbody>\n",
       "</table>\n",
       "</div>"
      ],
      "text/plain": [
       "   video_duration_sec claim_status author_ban_status  video_view_count  \\\n",
       "0                  59        claim      under review          343296.0   \n",
       "1                  32        claim            active          140877.0   \n",
       "2                  31        claim            active          902185.0   \n",
       "3                  25        claim            active          437506.0   \n",
       "4                  19        claim            active           56167.0   \n",
       "\n",
       "   video_share_count  video_download_count  video_comment_count  text_length  \n",
       "0              241.0                   1.0                  0.0           97  \n",
       "1            19034.0                1161.0                684.0          107  \n",
       "2             2858.0                 833.0                329.0          137  \n",
       "3            34812.0                1234.0                584.0          131  \n",
       "4             4110.0                 547.0                152.0          128  "
      ]
     },
     "execution_count": 172,
     "metadata": {},
     "output_type": "execute_result"
    }
   ],
   "source": [
    "# Variáveis independetes (features). Essas são as variáveis que serão usadas para prever a variável de interesse.\n",
    "X = data_upsampled[[\"video_duration_sec\", \"claim_status\", \"author_ban_status\", \"video_view_count\", \"video_share_count\", \"video_download_count\", \"video_comment_count\", 'text_length']]\n",
    "\n",
    "# Primeiras linhas.\n",
    "X.head()"
   ]
  },
  {
   "cell_type": "code",
   "execution_count": 173,
   "metadata": {},
   "outputs": [
    {
     "data": {
      "text/plain": [
       "(35768, 8)"
      ]
     },
     "execution_count": 173,
     "metadata": {},
     "output_type": "execute_result"
    }
   ],
   "source": [
    "X.shape"
   ]
  },
  {
   "cell_type": "markdown",
   "metadata": {},
   "source": [
    "### Separando o que será treinado e o que será testado. "
   ]
  },
  {
   "cell_type": "code",
   "execution_count": 174,
   "metadata": {},
   "outputs": [],
   "source": [
    "X_train, X_test, y_train, y_test = train_test_split(X, y, test_size=0.25, random_state=0)"
   ]
  },
  {
   "cell_type": "code",
   "execution_count": 175,
   "metadata": {},
   "outputs": [
    {
     "data": {
      "text/plain": [
       "(26826, 8)"
      ]
     },
     "metadata": {},
     "output_type": "display_data"
    },
    {
     "data": {
      "text/plain": [
       "(8942, 8)"
      ]
     },
     "metadata": {},
     "output_type": "display_data"
    },
    {
     "data": {
      "text/plain": [
       "(26826,)"
      ]
     },
     "metadata": {},
     "output_type": "display_data"
    },
    {
     "data": {
      "text/plain": [
       "(8942,)"
      ]
     },
     "metadata": {},
     "output_type": "display_data"
    },
    {
     "data": {
      "text/plain": [
       "(None, None, None, None)"
      ]
     },
     "execution_count": 175,
     "metadata": {},
     "output_type": "execute_result"
    }
   ],
   "source": [
    "display(X_train.shape), display(X_test.shape), display(y_train.shape), display(y_test.shape)"
   ]
  },
  {
   "cell_type": "markdown",
   "metadata": {},
   "source": [
    "### Hora de traduzir as variáveis categóricas para numéricas através de uma codifiação"
   ]
  },
  {
   "cell_type": "markdown",
   "metadata": {},
   "source": [
    "#### Primeiro com relação às variáveis independentes (X)"
   ]
  },
  {
   "cell_type": "code",
   "execution_count": 176,
   "metadata": {},
   "outputs": [
    {
     "data": {
      "application/vnd.microsoft.datawrangler.viewer.v0+json": {
       "columns": [
        {
         "name": "index",
         "rawType": "object",
         "type": "string"
        },
        {
         "name": "0",
         "rawType": "object",
         "type": "unknown"
        }
       ],
       "ref": "50a3e24f-044f-40db-ac3c-7312f5f768b0",
       "rows": [
        [
         "video_duration_sec",
         "int64"
        ],
        [
         "claim_status",
         "object"
        ],
        [
         "author_ban_status",
         "object"
        ],
        [
         "video_view_count",
         "float64"
        ],
        [
         "video_share_count",
         "float64"
        ],
        [
         "video_download_count",
         "float64"
        ],
        [
         "video_comment_count",
         "float64"
        ],
        [
         "text_length",
         "int64"
        ]
       ],
       "shape": {
        "columns": 1,
        "rows": 8
       }
      },
      "text/plain": [
       "video_duration_sec        int64\n",
       "claim_status             object\n",
       "author_ban_status        object\n",
       "video_view_count        float64\n",
       "video_share_count       float64\n",
       "video_download_count    float64\n",
       "video_comment_count     float64\n",
       "text_length               int64\n",
       "dtype: object"
      ]
     },
     "execution_count": 176,
     "metadata": {},
     "output_type": "execute_result"
    }
   ],
   "source": [
    "X_train.dtypes\n",
    "# Como posso ver, as variáveis 'claim_status' e 'author_ban_status' são categóricas, enquanto as outras são numéricas.\n",
    "# Precisamos transformar essas variáveis categóricas em variáveis numéricas para que o modelo possa interpretá-las corretamente."
   ]
  },
  {
   "cell_type": "code",
   "execution_count": 177,
   "metadata": {},
   "outputs": [
    {
     "data": {
      "text/plain": [
       "array(['opinion', 'claim'], dtype=object)"
      ]
     },
     "metadata": {},
     "output_type": "display_data"
    },
    {
     "data": {
      "text/plain": [
       "array(['active', 'banned', 'under review'], dtype=object)"
      ]
     },
     "metadata": {},
     "output_type": "display_data"
    }
   ],
   "source": [
    "display(X_train['claim_status'].unique() )\n",
    "display(X_train['author_ban_status'].unique())"
   ]
  },
  {
   "cell_type": "code",
   "execution_count": 178,
   "metadata": {},
   "outputs": [
    {
     "data": {
      "application/vnd.microsoft.datawrangler.viewer.v0+json": {
       "columns": [
        {
         "name": "index",
         "rawType": "int64",
         "type": "integer"
        },
        {
         "name": "claim_status",
         "rawType": "object",
         "type": "string"
        },
        {
         "name": "author_ban_status",
         "rawType": "object",
         "type": "string"
        }
       ],
       "ref": "ce6b152f-d1f3-4177-b980-2d7af162ee70",
       "rows": [
        [
         "33058",
         "opinion",
         "active"
        ],
        [
         "20491",
         "opinion",
         "active"
        ],
        [
         "25583",
         "opinion",
         "active"
        ],
        [
         "18474",
         "opinion",
         "active"
        ],
        [
         "27312",
         "opinion",
         "active"
        ]
       ],
       "shape": {
        "columns": 2,
        "rows": 5
       }
      },
      "text/html": [
       "<div>\n",
       "<style scoped>\n",
       "    .dataframe tbody tr th:only-of-type {\n",
       "        vertical-align: middle;\n",
       "    }\n",
       "\n",
       "    .dataframe tbody tr th {\n",
       "        vertical-align: top;\n",
       "    }\n",
       "\n",
       "    .dataframe thead th {\n",
       "        text-align: right;\n",
       "    }\n",
       "</style>\n",
       "<table border=\"1\" class=\"dataframe\">\n",
       "  <thead>\n",
       "    <tr style=\"text-align: right;\">\n",
       "      <th></th>\n",
       "      <th>claim_status</th>\n",
       "      <th>author_ban_status</th>\n",
       "    </tr>\n",
       "  </thead>\n",
       "  <tbody>\n",
       "    <tr>\n",
       "      <th>33058</th>\n",
       "      <td>opinion</td>\n",
       "      <td>active</td>\n",
       "    </tr>\n",
       "    <tr>\n",
       "      <th>20491</th>\n",
       "      <td>opinion</td>\n",
       "      <td>active</td>\n",
       "    </tr>\n",
       "    <tr>\n",
       "      <th>25583</th>\n",
       "      <td>opinion</td>\n",
       "      <td>active</td>\n",
       "    </tr>\n",
       "    <tr>\n",
       "      <th>18474</th>\n",
       "      <td>opinion</td>\n",
       "      <td>active</td>\n",
       "    </tr>\n",
       "    <tr>\n",
       "      <th>27312</th>\n",
       "      <td>opinion</td>\n",
       "      <td>active</td>\n",
       "    </tr>\n",
       "  </tbody>\n",
       "</table>\n",
       "</div>"
      ],
      "text/plain": [
       "      claim_status author_ban_status\n",
       "33058      opinion            active\n",
       "20491      opinion            active\n",
       "25583      opinion            active\n",
       "18474      opinion            active\n",
       "27312      opinion            active"
      ]
     },
     "execution_count": 178,
     "metadata": {},
     "output_type": "execute_result"
    }
   ],
   "source": [
    "X_train_to_encode = X_train[['claim_status', 'author_ban_status']]\n",
    "X_train_to_encode.head()"
   ]
  },
  {
   "cell_type": "code",
   "execution_count": 179,
   "metadata": {},
   "outputs": [],
   "source": [
    "# Montando o OneHotEncoder para transformar as variáveis categóricas em variáveis numéricas.\n",
    "X_encoder = OneHotEncoder(drop='first', sparse_output=False)"
   ]
  },
  {
   "cell_type": "code",
   "execution_count": 180,
   "metadata": {},
   "outputs": [],
   "source": [
    "# Transformando e ajustando o OneHotEncoder nas variáveis categóricas.\n",
    "X_train_encoded = X_encoder.fit_transform(X_train_to_encode)"
   ]
  },
  {
   "cell_type": "code",
   "execution_count": 181,
   "metadata": {},
   "outputs": [
    {
     "data": {
      "text/plain": [
       "[array(['claim', 'opinion'], dtype=object),\n",
       " array(['active', 'banned', 'under review'], dtype=object)]"
      ]
     },
     "execution_count": 181,
     "metadata": {},
     "output_type": "execute_result"
    }
   ],
   "source": [
    "X_encoder.categories_"
   ]
  },
  {
   "cell_type": "code",
   "execution_count": 182,
   "metadata": {},
   "outputs": [
    {
     "data": {
      "text/plain": [
       "array(['claim_status_opinion', 'author_ban_status_banned',\n",
       "       'author_ban_status_under review'], dtype=object)"
      ]
     },
     "execution_count": 182,
     "metadata": {},
     "output_type": "execute_result"
    }
   ],
   "source": [
    "# Pegando os nomes das colunas após a codificação\n",
    "X_encoder.get_feature_names_out()"
   ]
  },
  {
   "cell_type": "code",
   "execution_count": 183,
   "metadata": {},
   "outputs": [
    {
     "data": {
      "text/plain": [
       "array([[1., 0., 0.],\n",
       "       [1., 0., 0.],\n",
       "       [1., 0., 0.],\n",
       "       ...,\n",
       "       [0., 0., 0.],\n",
       "       [1., 0., 0.],\n",
       "       [0., 1., 0.]], shape=(26826, 3))"
      ]
     },
     "execution_count": 183,
     "metadata": {},
     "output_type": "execute_result"
    }
   ],
   "source": [
    "X_train_encoded"
   ]
  },
  {
   "cell_type": "code",
   "execution_count": 184,
   "metadata": {},
   "outputs": [
    {
     "data": {
      "application/vnd.microsoft.datawrangler.viewer.v0+json": {
       "columns": [
        {
         "name": "index",
         "rawType": "int64",
         "type": "integer"
        },
        {
         "name": "claim_status_opinion",
         "rawType": "float64",
         "type": "float"
        },
        {
         "name": "author_ban_status_banned",
         "rawType": "float64",
         "type": "float"
        },
        {
         "name": "author_ban_status_under review",
         "rawType": "float64",
         "type": "float"
        }
       ],
       "ref": "7345cb62-5bc2-48d8-975e-f67383028070",
       "rows": [
        [
         "0",
         "1.0",
         "0.0",
         "0.0"
        ],
        [
         "1",
         "1.0",
         "0.0",
         "0.0"
        ],
        [
         "2",
         "1.0",
         "0.0",
         "0.0"
        ],
        [
         "3",
         "1.0",
         "0.0",
         "0.0"
        ],
        [
         "4",
         "1.0",
         "0.0",
         "0.0"
        ]
       ],
       "shape": {
        "columns": 3,
        "rows": 5
       }
      },
      "text/html": [
       "<div>\n",
       "<style scoped>\n",
       "    .dataframe tbody tr th:only-of-type {\n",
       "        vertical-align: middle;\n",
       "    }\n",
       "\n",
       "    .dataframe tbody tr th {\n",
       "        vertical-align: top;\n",
       "    }\n",
       "\n",
       "    .dataframe thead th {\n",
       "        text-align: right;\n",
       "    }\n",
       "</style>\n",
       "<table border=\"1\" class=\"dataframe\">\n",
       "  <thead>\n",
       "    <tr style=\"text-align: right;\">\n",
       "      <th></th>\n",
       "      <th>claim_status_opinion</th>\n",
       "      <th>author_ban_status_banned</th>\n",
       "      <th>author_ban_status_under review</th>\n",
       "    </tr>\n",
       "  </thead>\n",
       "  <tbody>\n",
       "    <tr>\n",
       "      <th>0</th>\n",
       "      <td>1.0</td>\n",
       "      <td>0.0</td>\n",
       "      <td>0.0</td>\n",
       "    </tr>\n",
       "    <tr>\n",
       "      <th>1</th>\n",
       "      <td>1.0</td>\n",
       "      <td>0.0</td>\n",
       "      <td>0.0</td>\n",
       "    </tr>\n",
       "    <tr>\n",
       "      <th>2</th>\n",
       "      <td>1.0</td>\n",
       "      <td>0.0</td>\n",
       "      <td>0.0</td>\n",
       "    </tr>\n",
       "    <tr>\n",
       "      <th>3</th>\n",
       "      <td>1.0</td>\n",
       "      <td>0.0</td>\n",
       "      <td>0.0</td>\n",
       "    </tr>\n",
       "    <tr>\n",
       "      <th>4</th>\n",
       "      <td>1.0</td>\n",
       "      <td>0.0</td>\n",
       "      <td>0.0</td>\n",
       "    </tr>\n",
       "  </tbody>\n",
       "</table>\n",
       "</div>"
      ],
      "text/plain": [
       "   claim_status_opinion  author_ban_status_banned  \\\n",
       "0                   1.0                       0.0   \n",
       "1                   1.0                       0.0   \n",
       "2                   1.0                       0.0   \n",
       "3                   1.0                       0.0   \n",
       "4                   1.0                       0.0   \n",
       "\n",
       "   author_ban_status_under review  \n",
       "0                             0.0  \n",
       "1                             0.0  \n",
       "2                             0.0  \n",
       "3                             0.0  \n",
       "4                             0.0  "
      ]
     },
     "execution_count": 184,
     "metadata": {},
     "output_type": "execute_result"
    }
   ],
   "source": [
    "# Transformando o array resultante do OneHotEncoder em um DataFrame para facilitar a visualização e manipulação.\n",
    "X_train_encoded_df = pd.DataFrame(data=X_train_encoded, columns=X_encoder.get_feature_names_out())\n",
    "\n",
    "# Mostrando as primeiras linhas do DataFrame codificado.\n",
    "X_train_encoded_df.head()"
   ]
  },
  {
   "cell_type": "code",
   "execution_count": 185,
   "metadata": {},
   "outputs": [
    {
     "data": {
      "application/vnd.microsoft.datawrangler.viewer.v0+json": {
       "columns": [
        {
         "name": "index",
         "rawType": "int64",
         "type": "integer"
        },
        {
         "name": "claim_status_opinion",
         "rawType": "float64",
         "type": "float"
        },
        {
         "name": "author_ban_status_banned",
         "rawType": "float64",
         "type": "float"
        },
        {
         "name": "author_ban_status_under review",
         "rawType": "float64",
         "type": "float"
        }
       ],
       "ref": "f62d8bcd-a744-49ad-9154-3686b10288a2",
       "rows": [
        [
         "0",
         "1.0",
         "0.0",
         "0.0"
        ],
        [
         "1",
         "1.0",
         "0.0",
         "0.0"
        ],
        [
         "2",
         "1.0",
         "0.0",
         "0.0"
        ],
        [
         "3",
         "1.0",
         "0.0",
         "0.0"
        ],
        [
         "4",
         "1.0",
         "0.0",
         "0.0"
        ]
       ],
       "shape": {
        "columns": 3,
        "rows": 5
       }
      },
      "text/html": [
       "<div>\n",
       "<style scoped>\n",
       "    .dataframe tbody tr th:only-of-type {\n",
       "        vertical-align: middle;\n",
       "    }\n",
       "\n",
       "    .dataframe tbody tr th {\n",
       "        vertical-align: top;\n",
       "    }\n",
       "\n",
       "    .dataframe thead th {\n",
       "        text-align: right;\n",
       "    }\n",
       "</style>\n",
       "<table border=\"1\" class=\"dataframe\">\n",
       "  <thead>\n",
       "    <tr style=\"text-align: right;\">\n",
       "      <th></th>\n",
       "      <th>claim_status_opinion</th>\n",
       "      <th>author_ban_status_banned</th>\n",
       "      <th>author_ban_status_under review</th>\n",
       "    </tr>\n",
       "  </thead>\n",
       "  <tbody>\n",
       "    <tr>\n",
       "      <th>0</th>\n",
       "      <td>1.0</td>\n",
       "      <td>0.0</td>\n",
       "      <td>0.0</td>\n",
       "    </tr>\n",
       "    <tr>\n",
       "      <th>1</th>\n",
       "      <td>1.0</td>\n",
       "      <td>0.0</td>\n",
       "      <td>0.0</td>\n",
       "    </tr>\n",
       "    <tr>\n",
       "      <th>2</th>\n",
       "      <td>1.0</td>\n",
       "      <td>0.0</td>\n",
       "      <td>0.0</td>\n",
       "    </tr>\n",
       "    <tr>\n",
       "      <th>3</th>\n",
       "      <td>1.0</td>\n",
       "      <td>0.0</td>\n",
       "      <td>0.0</td>\n",
       "    </tr>\n",
       "    <tr>\n",
       "      <th>4</th>\n",
       "      <td>1.0</td>\n",
       "      <td>0.0</td>\n",
       "      <td>0.0</td>\n",
       "    </tr>\n",
       "  </tbody>\n",
       "</table>\n",
       "</div>"
      ],
      "text/plain": [
       "   claim_status_opinion  author_ban_status_banned  \\\n",
       "0                   1.0                       0.0   \n",
       "1                   1.0                       0.0   \n",
       "2                   1.0                       0.0   \n",
       "3                   1.0                       0.0   \n",
       "4                   1.0                       0.0   \n",
       "\n",
       "   author_ban_status_under review  \n",
       "0                             0.0  \n",
       "1                             0.0  \n",
       "2                             0.0  \n",
       "3                             0.0  \n",
       "4                             0.0  "
      ]
     },
     "metadata": {},
     "output_type": "display_data"
    },
    {
     "data": {
      "application/vnd.microsoft.datawrangler.viewer.v0+json": {
       "columns": [
        {
         "name": "index",
         "rawType": "int64",
         "type": "integer"
        },
        {
         "name": "claim_status",
         "rawType": "object",
         "type": "string"
        }
       ],
       "ref": "1ddc2314-a977-4b89-acc2-1a1e2540a207",
       "rows": [
        [
         "33058",
         "opinion"
        ],
        [
         "20491",
         "opinion"
        ],
        [
         "25583",
         "opinion"
        ],
        [
         "18474",
         "opinion"
        ],
        [
         "27312",
         "opinion"
        ]
       ],
       "shape": {
        "columns": 1,
        "rows": 5
       }
      },
      "text/plain": [
       "33058    opinion\n",
       "20491    opinion\n",
       "25583    opinion\n",
       "18474    opinion\n",
       "27312    opinion\n",
       "Name: claim_status, dtype: object"
      ]
     },
     "metadata": {},
     "output_type": "display_data"
    }
   ],
   "source": [
    "display(X_train_encoded_df.head())\n",
    "display(X_train['claim_status'].head())"
   ]
  },
  {
   "cell_type": "code",
   "execution_count": 186,
   "metadata": {},
   "outputs": [
    {
     "data": {
      "application/vnd.microsoft.datawrangler.viewer.v0+json": {
       "columns": [
        {
         "name": "index",
         "rawType": "int64",
         "type": "integer"
        },
        {
         "name": "video_duration_sec",
         "rawType": "int64",
         "type": "integer"
        },
        {
         "name": "claim_status",
         "rawType": "object",
         "type": "string"
        },
        {
         "name": "author_ban_status",
         "rawType": "object",
         "type": "string"
        },
        {
         "name": "video_view_count",
         "rawType": "float64",
         "type": "float"
        },
        {
         "name": "video_share_count",
         "rawType": "float64",
         "type": "float"
        },
        {
         "name": "video_download_count",
         "rawType": "float64",
         "type": "float"
        },
        {
         "name": "video_comment_count",
         "rawType": "float64",
         "type": "float"
        },
        {
         "name": "text_length",
         "rawType": "int64",
         "type": "integer"
        }
       ],
       "ref": "61c556e2-8040-426b-9e4d-751c5e5e66a4",
       "rows": [
        [
         "33058",
         "6",
         "opinion",
         "active",
         "238.0",
         "6.0",
         "0.0",
         "0.0",
         "94"
        ],
        [
         "20491",
         "51",
         "opinion",
         "active",
         "5002.0",
         "480.0",
         "12.0",
         "1.0",
         "88"
        ],
        [
         "25583",
         "32",
         "opinion",
         "active",
         "2042.0",
         "145.0",
         "11.0",
         "3.0",
         "87"
        ],
        [
         "18474",
         "24",
         "opinion",
         "active",
         "2334.0",
         "13.0",
         "17.0",
         "0.0",
         "92"
        ],
        [
         "27312",
         "9",
         "opinion",
         "active",
         "7125.0",
         "365.0",
         "19.0",
         "6.0",
         "65"
        ]
       ],
       "shape": {
        "columns": 8,
        "rows": 5
       }
      },
      "text/html": [
       "<div>\n",
       "<style scoped>\n",
       "    .dataframe tbody tr th:only-of-type {\n",
       "        vertical-align: middle;\n",
       "    }\n",
       "\n",
       "    .dataframe tbody tr th {\n",
       "        vertical-align: top;\n",
       "    }\n",
       "\n",
       "    .dataframe thead th {\n",
       "        text-align: right;\n",
       "    }\n",
       "</style>\n",
       "<table border=\"1\" class=\"dataframe\">\n",
       "  <thead>\n",
       "    <tr style=\"text-align: right;\">\n",
       "      <th></th>\n",
       "      <th>video_duration_sec</th>\n",
       "      <th>claim_status</th>\n",
       "      <th>author_ban_status</th>\n",
       "      <th>video_view_count</th>\n",
       "      <th>video_share_count</th>\n",
       "      <th>video_download_count</th>\n",
       "      <th>video_comment_count</th>\n",
       "      <th>text_length</th>\n",
       "    </tr>\n",
       "  </thead>\n",
       "  <tbody>\n",
       "    <tr>\n",
       "      <th>33058</th>\n",
       "      <td>6</td>\n",
       "      <td>opinion</td>\n",
       "      <td>active</td>\n",
       "      <td>238.0</td>\n",
       "      <td>6.0</td>\n",
       "      <td>0.0</td>\n",
       "      <td>0.0</td>\n",
       "      <td>94</td>\n",
       "    </tr>\n",
       "    <tr>\n",
       "      <th>20491</th>\n",
       "      <td>51</td>\n",
       "      <td>opinion</td>\n",
       "      <td>active</td>\n",
       "      <td>5002.0</td>\n",
       "      <td>480.0</td>\n",
       "      <td>12.0</td>\n",
       "      <td>1.0</td>\n",
       "      <td>88</td>\n",
       "    </tr>\n",
       "    <tr>\n",
       "      <th>25583</th>\n",
       "      <td>32</td>\n",
       "      <td>opinion</td>\n",
       "      <td>active</td>\n",
       "      <td>2042.0</td>\n",
       "      <td>145.0</td>\n",
       "      <td>11.0</td>\n",
       "      <td>3.0</td>\n",
       "      <td>87</td>\n",
       "    </tr>\n",
       "    <tr>\n",
       "      <th>18474</th>\n",
       "      <td>24</td>\n",
       "      <td>opinion</td>\n",
       "      <td>active</td>\n",
       "      <td>2334.0</td>\n",
       "      <td>13.0</td>\n",
       "      <td>17.0</td>\n",
       "      <td>0.0</td>\n",
       "      <td>92</td>\n",
       "    </tr>\n",
       "    <tr>\n",
       "      <th>27312</th>\n",
       "      <td>9</td>\n",
       "      <td>opinion</td>\n",
       "      <td>active</td>\n",
       "      <td>7125.0</td>\n",
       "      <td>365.0</td>\n",
       "      <td>19.0</td>\n",
       "      <td>6.0</td>\n",
       "      <td>65</td>\n",
       "    </tr>\n",
       "  </tbody>\n",
       "</table>\n",
       "</div>"
      ],
      "text/plain": [
       "       video_duration_sec claim_status author_ban_status  video_view_count  \\\n",
       "33058                   6      opinion            active             238.0   \n",
       "20491                  51      opinion            active            5002.0   \n",
       "25583                  32      opinion            active            2042.0   \n",
       "18474                  24      opinion            active            2334.0   \n",
       "27312                   9      opinion            active            7125.0   \n",
       "\n",
       "       video_share_count  video_download_count  video_comment_count  \\\n",
       "33058                6.0                   0.0                  0.0   \n",
       "20491              480.0                  12.0                  1.0   \n",
       "25583              145.0                  11.0                  3.0   \n",
       "18474               13.0                  17.0                  0.0   \n",
       "27312              365.0                  19.0                  6.0   \n",
       "\n",
       "       text_length  \n",
       "33058           94  \n",
       "20491           88  \n",
       "25583           87  \n",
       "18474           92  \n",
       "27312           65  "
      ]
     },
     "execution_count": 186,
     "metadata": {},
     "output_type": "execute_result"
    }
   ],
   "source": [
    "X_train.head()"
   ]
  },
  {
   "cell_type": "code",
   "execution_count": 187,
   "metadata": {},
   "outputs": [],
   "source": [
    "# Como usarei as novas colunas codificadas, preciso concatenar o DataFrame codificado com o DataFrame original, e retirar as colunas originais que estão em formato 'object'.\n",
    "#X_train.drop(columns=[\"claim_status\", \"author_ban_status\"]).head()\n",
    "X_train_final = pd.concat([X_train.drop(columns=[\"claim_status\", \"author_ban_status\"]).reset_index(drop=True), X_train_encoded_df], axis=1)"
   ]
  },
  {
   "cell_type": "code",
   "execution_count": 188,
   "metadata": {},
   "outputs": [
    {
     "data": {
      "application/vnd.microsoft.datawrangler.viewer.v0+json": {
       "columns": [
        {
         "name": "index",
         "rawType": "int64",
         "type": "integer"
        },
        {
         "name": "video_duration_sec",
         "rawType": "int64",
         "type": "integer"
        },
        {
         "name": "video_view_count",
         "rawType": "float64",
         "type": "float"
        },
        {
         "name": "video_share_count",
         "rawType": "float64",
         "type": "float"
        },
        {
         "name": "video_download_count",
         "rawType": "float64",
         "type": "float"
        },
        {
         "name": "video_comment_count",
         "rawType": "float64",
         "type": "float"
        },
        {
         "name": "text_length",
         "rawType": "int64",
         "type": "integer"
        },
        {
         "name": "claim_status_opinion",
         "rawType": "float64",
         "type": "float"
        },
        {
         "name": "author_ban_status_banned",
         "rawType": "float64",
         "type": "float"
        },
        {
         "name": "author_ban_status_under review",
         "rawType": "float64",
         "type": "float"
        }
       ],
       "ref": "be7eb323-c4de-44f8-a211-4338d0b766a8",
       "rows": [
        [
         "0",
         "6",
         "238.0",
         "6.0",
         "0.0",
         "0.0",
         "94",
         "1.0",
         "0.0",
         "0.0"
        ],
        [
         "1",
         "51",
         "5002.0",
         "480.0",
         "12.0",
         "1.0",
         "88",
         "1.0",
         "0.0",
         "0.0"
        ],
        [
         "2",
         "32",
         "2042.0",
         "145.0",
         "11.0",
         "3.0",
         "87",
         "1.0",
         "0.0",
         "0.0"
        ],
        [
         "3",
         "24",
         "2334.0",
         "13.0",
         "17.0",
         "0.0",
         "92",
         "1.0",
         "0.0",
         "0.0"
        ],
        [
         "4",
         "9",
         "7125.0",
         "365.0",
         "19.0",
         "6.0",
         "65",
         "1.0",
         "0.0",
         "0.0"
        ]
       ],
       "shape": {
        "columns": 9,
        "rows": 5
       }
      },
      "text/html": [
       "<div>\n",
       "<style scoped>\n",
       "    .dataframe tbody tr th:only-of-type {\n",
       "        vertical-align: middle;\n",
       "    }\n",
       "\n",
       "    .dataframe tbody tr th {\n",
       "        vertical-align: top;\n",
       "    }\n",
       "\n",
       "    .dataframe thead th {\n",
       "        text-align: right;\n",
       "    }\n",
       "</style>\n",
       "<table border=\"1\" class=\"dataframe\">\n",
       "  <thead>\n",
       "    <tr style=\"text-align: right;\">\n",
       "      <th></th>\n",
       "      <th>video_duration_sec</th>\n",
       "      <th>video_view_count</th>\n",
       "      <th>video_share_count</th>\n",
       "      <th>video_download_count</th>\n",
       "      <th>video_comment_count</th>\n",
       "      <th>text_length</th>\n",
       "      <th>claim_status_opinion</th>\n",
       "      <th>author_ban_status_banned</th>\n",
       "      <th>author_ban_status_under review</th>\n",
       "    </tr>\n",
       "  </thead>\n",
       "  <tbody>\n",
       "    <tr>\n",
       "      <th>0</th>\n",
       "      <td>6</td>\n",
       "      <td>238.0</td>\n",
       "      <td>6.0</td>\n",
       "      <td>0.0</td>\n",
       "      <td>0.0</td>\n",
       "      <td>94</td>\n",
       "      <td>1.0</td>\n",
       "      <td>0.0</td>\n",
       "      <td>0.0</td>\n",
       "    </tr>\n",
       "    <tr>\n",
       "      <th>1</th>\n",
       "      <td>51</td>\n",
       "      <td>5002.0</td>\n",
       "      <td>480.0</td>\n",
       "      <td>12.0</td>\n",
       "      <td>1.0</td>\n",
       "      <td>88</td>\n",
       "      <td>1.0</td>\n",
       "      <td>0.0</td>\n",
       "      <td>0.0</td>\n",
       "    </tr>\n",
       "    <tr>\n",
       "      <th>2</th>\n",
       "      <td>32</td>\n",
       "      <td>2042.0</td>\n",
       "      <td>145.0</td>\n",
       "      <td>11.0</td>\n",
       "      <td>3.0</td>\n",
       "      <td>87</td>\n",
       "      <td>1.0</td>\n",
       "      <td>0.0</td>\n",
       "      <td>0.0</td>\n",
       "    </tr>\n",
       "    <tr>\n",
       "      <th>3</th>\n",
       "      <td>24</td>\n",
       "      <td>2334.0</td>\n",
       "      <td>13.0</td>\n",
       "      <td>17.0</td>\n",
       "      <td>0.0</td>\n",
       "      <td>92</td>\n",
       "      <td>1.0</td>\n",
       "      <td>0.0</td>\n",
       "      <td>0.0</td>\n",
       "    </tr>\n",
       "    <tr>\n",
       "      <th>4</th>\n",
       "      <td>9</td>\n",
       "      <td>7125.0</td>\n",
       "      <td>365.0</td>\n",
       "      <td>19.0</td>\n",
       "      <td>6.0</td>\n",
       "      <td>65</td>\n",
       "      <td>1.0</td>\n",
       "      <td>0.0</td>\n",
       "      <td>0.0</td>\n",
       "    </tr>\n",
       "  </tbody>\n",
       "</table>\n",
       "</div>"
      ],
      "text/plain": [
       "   video_duration_sec  video_view_count  video_share_count  \\\n",
       "0                   6             238.0                6.0   \n",
       "1                  51            5002.0              480.0   \n",
       "2                  32            2042.0              145.0   \n",
       "3                  24            2334.0               13.0   \n",
       "4                   9            7125.0              365.0   \n",
       "\n",
       "   video_download_count  video_comment_count  text_length  \\\n",
       "0                   0.0                  0.0           94   \n",
       "1                  12.0                  1.0           88   \n",
       "2                  11.0                  3.0           87   \n",
       "3                  17.0                  0.0           92   \n",
       "4                  19.0                  6.0           65   \n",
       "\n",
       "   claim_status_opinion  author_ban_status_banned  \\\n",
       "0                   1.0                       0.0   \n",
       "1                   1.0                       0.0   \n",
       "2                   1.0                       0.0   \n",
       "3                   1.0                       0.0   \n",
       "4                   1.0                       0.0   \n",
       "\n",
       "   author_ban_status_under review  \n",
       "0                             0.0  \n",
       "1                             0.0  \n",
       "2                             0.0  \n",
       "3                             0.0  \n",
       "4                             0.0  "
      ]
     },
     "execution_count": 188,
     "metadata": {},
     "output_type": "execute_result"
    }
   ],
   "source": [
    "X_train_final.head()"
   ]
  },
  {
   "cell_type": "markdown",
   "metadata": {},
   "source": [
    "#### Agora a variável dependente (Y)"
   ]
  },
  {
   "cell_type": "code",
   "execution_count": 189,
   "metadata": {},
   "outputs": [
    {
     "data": {
      "text/plain": [
       "dtype('O')"
      ]
     },
     "execution_count": 189,
     "metadata": {},
     "output_type": "execute_result"
    }
   ],
   "source": [
    "y_train.dtype"
   ]
  },
  {
   "cell_type": "markdown",
   "metadata": {},
   "source": [
    "Como a variável está como tipo objeto, é importante que também seja transformada para numérica, da mesma forma que as variáveis independentes (X)"
   ]
  },
  {
   "cell_type": "code",
   "execution_count": 190,
   "metadata": {},
   "outputs": [
    {
     "data": {
      "text/plain": [
       "array(['verified', 'not verified'], dtype=object)"
      ]
     },
     "execution_count": 190,
     "metadata": {},
     "output_type": "execute_result"
    }
   ],
   "source": [
    "# Checando a unicidade dos valores na variável dependente (y_train).\n",
    "y_train.unique()"
   ]
  },
  {
   "cell_type": "code",
   "execution_count": 191,
   "metadata": {},
   "outputs": [],
   "source": [
    "y_encoder = OneHotEncoder(drop='first', sparse_output=False)"
   ]
  },
  {
   "cell_type": "code",
   "execution_count": 192,
   "metadata": {},
   "outputs": [
    {
     "data": {
      "text/plain": [
       "array([1., 1., 1., ..., 1., 1., 0.], shape=(26826,))"
      ]
     },
     "execution_count": 192,
     "metadata": {},
     "output_type": "execute_result"
    }
   ],
   "source": [
    "y_train_final = y_encoder.fit_transform(y_train.values.reshape(-1, 1)).ravel()\n",
    "y_train_final"
   ]
  },
  {
   "cell_type": "code",
   "execution_count": 193,
   "metadata": {},
   "outputs": [],
   "source": [
    "# Criando o modelo de regressão logística com os dados de treino.\n",
    "log_clf = LogisticRegression(max_iter=5000, random_state=0).fit(X_train_final, y_train_final)"
   ]
  },
  {
   "cell_type": "markdown",
   "metadata": {},
   "source": [
    "#### Codificando as variáveis de teste para utilizar o modelo criado"
   ]
  },
  {
   "cell_type": "code",
   "execution_count": 194,
   "metadata": {},
   "outputs": [
    {
     "data": {
      "application/vnd.microsoft.datawrangler.viewer.v0+json": {
       "columns": [
        {
         "name": "index",
         "rawType": "int64",
         "type": "integer"
        },
        {
         "name": "claim_status",
         "rawType": "object",
         "type": "string"
        },
        {
         "name": "author_ban_status",
         "rawType": "object",
         "type": "string"
        }
       ],
       "ref": "dc5d3544-c388-4664-84f5-7197b3434329",
       "rows": [
        [
         "21061",
         "opinion",
         "active"
        ],
        [
         "31748",
         "opinion",
         "active"
        ],
        [
         "20197",
         "opinion",
         "active"
        ],
        [
         "5727",
         "claim",
         "active"
        ],
        [
         "11607",
         "opinion",
         "active"
        ]
       ],
       "shape": {
        "columns": 2,
        "rows": 5
       }
      },
      "text/html": [
       "<div>\n",
       "<style scoped>\n",
       "    .dataframe tbody tr th:only-of-type {\n",
       "        vertical-align: middle;\n",
       "    }\n",
       "\n",
       "    .dataframe tbody tr th {\n",
       "        vertical-align: top;\n",
       "    }\n",
       "\n",
       "    .dataframe thead th {\n",
       "        text-align: right;\n",
       "    }\n",
       "</style>\n",
       "<table border=\"1\" class=\"dataframe\">\n",
       "  <thead>\n",
       "    <tr style=\"text-align: right;\">\n",
       "      <th></th>\n",
       "      <th>claim_status</th>\n",
       "      <th>author_ban_status</th>\n",
       "    </tr>\n",
       "  </thead>\n",
       "  <tbody>\n",
       "    <tr>\n",
       "      <th>21061</th>\n",
       "      <td>opinion</td>\n",
       "      <td>active</td>\n",
       "    </tr>\n",
       "    <tr>\n",
       "      <th>31748</th>\n",
       "      <td>opinion</td>\n",
       "      <td>active</td>\n",
       "    </tr>\n",
       "    <tr>\n",
       "      <th>20197</th>\n",
       "      <td>opinion</td>\n",
       "      <td>active</td>\n",
       "    </tr>\n",
       "    <tr>\n",
       "      <th>5727</th>\n",
       "      <td>claim</td>\n",
       "      <td>active</td>\n",
       "    </tr>\n",
       "    <tr>\n",
       "      <th>11607</th>\n",
       "      <td>opinion</td>\n",
       "      <td>active</td>\n",
       "    </tr>\n",
       "  </tbody>\n",
       "</table>\n",
       "</div>"
      ],
      "text/plain": [
       "      claim_status author_ban_status\n",
       "21061      opinion            active\n",
       "31748      opinion            active\n",
       "20197      opinion            active\n",
       "5727         claim            active\n",
       "11607      opinion            active"
      ]
     },
     "execution_count": 194,
     "metadata": {},
     "output_type": "execute_result"
    }
   ],
   "source": [
    "# Selecionando as colunas que serão transformadas.\n",
    "X_test_to_encode = X_test[[\"claim_status\", \"author_ban_status\"]]\n",
    "X_test_to_encode.head()"
   ]
  },
  {
   "cell_type": "code",
   "execution_count": 195,
   "metadata": {},
   "outputs": [
    {
     "data": {
      "text/plain": [
       "array([[1., 0., 0.],\n",
       "       [1., 0., 0.],\n",
       "       [1., 0., 0.],\n",
       "       ...,\n",
       "       [1., 0., 0.],\n",
       "       [1., 0., 0.],\n",
       "       [1., 0., 0.]], shape=(8942, 3))"
      ]
     },
     "execution_count": 195,
     "metadata": {},
     "output_type": "execute_result"
    }
   ],
   "source": [
    "# Codificando...\n",
    "X_test_encoded = X_encoder.transform(X_test_to_encode)\n",
    "X_test_encoded"
   ]
  },
  {
   "cell_type": "code",
   "execution_count": 196,
   "metadata": {},
   "outputs": [],
   "source": [
    "X_train_encoded = X_encoder.fit_transform(X_train_to_encode)"
   ]
  },
  {
   "cell_type": "code",
   "execution_count": 197,
   "metadata": {},
   "outputs": [
    {
     "data": {
      "text/plain": [
       "(26826, 3)"
      ]
     },
     "execution_count": 197,
     "metadata": {},
     "output_type": "execute_result"
    }
   ],
   "source": [
    "X_train_encoded.shape"
   ]
  },
  {
   "cell_type": "code",
   "execution_count": 198,
   "metadata": {},
   "outputs": [
    {
     "data": {
      "application/vnd.microsoft.datawrangler.viewer.v0+json": {
       "columns": [
        {
         "name": "index",
         "rawType": "int64",
         "type": "integer"
        },
        {
         "name": "claim_status_opinion",
         "rawType": "float64",
         "type": "float"
        },
        {
         "name": "author_ban_status_banned",
         "rawType": "float64",
         "type": "float"
        },
        {
         "name": "author_ban_status_under review",
         "rawType": "float64",
         "type": "float"
        }
       ],
       "ref": "9434ede5-0f35-460b-89de-5fc1a444c139",
       "rows": [
        [
         "0",
         "1.0",
         "0.0",
         "0.0"
        ],
        [
         "1",
         "1.0",
         "0.0",
         "0.0"
        ],
        [
         "2",
         "1.0",
         "0.0",
         "0.0"
        ],
        [
         "3",
         "0.0",
         "0.0",
         "0.0"
        ],
        [
         "4",
         "1.0",
         "0.0",
         "0.0"
        ]
       ],
       "shape": {
        "columns": 3,
        "rows": 5
       }
      },
      "text/html": [
       "<div>\n",
       "<style scoped>\n",
       "    .dataframe tbody tr th:only-of-type {\n",
       "        vertical-align: middle;\n",
       "    }\n",
       "\n",
       "    .dataframe tbody tr th {\n",
       "        vertical-align: top;\n",
       "    }\n",
       "\n",
       "    .dataframe thead th {\n",
       "        text-align: right;\n",
       "    }\n",
       "</style>\n",
       "<table border=\"1\" class=\"dataframe\">\n",
       "  <thead>\n",
       "    <tr style=\"text-align: right;\">\n",
       "      <th></th>\n",
       "      <th>claim_status_opinion</th>\n",
       "      <th>author_ban_status_banned</th>\n",
       "      <th>author_ban_status_under review</th>\n",
       "    </tr>\n",
       "  </thead>\n",
       "  <tbody>\n",
       "    <tr>\n",
       "      <th>0</th>\n",
       "      <td>1.0</td>\n",
       "      <td>0.0</td>\n",
       "      <td>0.0</td>\n",
       "    </tr>\n",
       "    <tr>\n",
       "      <th>1</th>\n",
       "      <td>1.0</td>\n",
       "      <td>0.0</td>\n",
       "      <td>0.0</td>\n",
       "    </tr>\n",
       "    <tr>\n",
       "      <th>2</th>\n",
       "      <td>1.0</td>\n",
       "      <td>0.0</td>\n",
       "      <td>0.0</td>\n",
       "    </tr>\n",
       "    <tr>\n",
       "      <th>3</th>\n",
       "      <td>0.0</td>\n",
       "      <td>0.0</td>\n",
       "      <td>0.0</td>\n",
       "    </tr>\n",
       "    <tr>\n",
       "      <th>4</th>\n",
       "      <td>1.0</td>\n",
       "      <td>0.0</td>\n",
       "      <td>0.0</td>\n",
       "    </tr>\n",
       "  </tbody>\n",
       "</table>\n",
       "</div>"
      ],
      "text/plain": [
       "   claim_status_opinion  author_ban_status_banned  \\\n",
       "0                   1.0                       0.0   \n",
       "1                   1.0                       0.0   \n",
       "2                   1.0                       0.0   \n",
       "3                   0.0                       0.0   \n",
       "4                   1.0                       0.0   \n",
       "\n",
       "   author_ban_status_under review  \n",
       "0                             0.0  \n",
       "1                             0.0  \n",
       "2                             0.0  \n",
       "3                             0.0  \n",
       "4                             0.0  "
      ]
     },
     "execution_count": 198,
     "metadata": {},
     "output_type": "execute_result"
    }
   ],
   "source": [
    "# Place encoded testing features (which is currently an array) into a dataframe\n",
    "X_test_encoded_df = pd.DataFrame(data=X_test_encoded, columns=X_encoder.get_feature_names_out())\n",
    "\n",
    "# Display first few rows\n",
    "X_test_encoded_df.head()"
   ]
  },
  {
   "cell_type": "code",
   "execution_count": 199,
   "metadata": {},
   "outputs": [
    {
     "data": {
      "application/vnd.microsoft.datawrangler.viewer.v0+json": {
       "columns": [
        {
         "name": "index",
         "rawType": "int64",
         "type": "integer"
        },
        {
         "name": "video_duration_sec",
         "rawType": "int64",
         "type": "integer"
        },
        {
         "name": "video_view_count",
         "rawType": "float64",
         "type": "float"
        },
        {
         "name": "video_share_count",
         "rawType": "float64",
         "type": "float"
        },
        {
         "name": "video_download_count",
         "rawType": "float64",
         "type": "float"
        },
        {
         "name": "video_comment_count",
         "rawType": "float64",
         "type": "float"
        },
        {
         "name": "text_length",
         "rawType": "int64",
         "type": "integer"
        },
        {
         "name": "claim_status_opinion",
         "rawType": "float64",
         "type": "float"
        },
        {
         "name": "author_ban_status_banned",
         "rawType": "float64",
         "type": "float"
        },
        {
         "name": "author_ban_status_under review",
         "rawType": "float64",
         "type": "float"
        }
       ],
       "ref": "85501d43-64a7-4daf-bf77-0c186cef9b41",
       "rows": [
        [
         "0",
         "27",
         "519.0",
         "65.0",
         "1.0",
         "0.0",
         "65",
         "1.0",
         "0.0",
         "0.0"
        ],
        [
         "1",
         "60",
         "7539.0",
         "181.0",
         "0.0",
         "0.0",
         "64",
         "1.0",
         "0.0",
         "0.0"
        ],
        [
         "2",
         "59",
         "5129.0",
         "179.0",
         "2.0",
         "0.0",
         "102",
         "1.0",
         "0.0",
         "0.0"
        ],
        [
         "3",
         "19",
         "792813.0",
         "56597.0",
         "5146.0",
         "728.5",
         "105",
         "0.0",
         "0.0",
         "0.0"
        ],
        [
         "4",
         "54",
         "2044.0",
         "68.0",
         "19.0",
         "2.0",
         "51",
         "1.0",
         "0.0",
         "0.0"
        ]
       ],
       "shape": {
        "columns": 9,
        "rows": 5
       }
      },
      "text/html": [
       "<div>\n",
       "<style scoped>\n",
       "    .dataframe tbody tr th:only-of-type {\n",
       "        vertical-align: middle;\n",
       "    }\n",
       "\n",
       "    .dataframe tbody tr th {\n",
       "        vertical-align: top;\n",
       "    }\n",
       "\n",
       "    .dataframe thead th {\n",
       "        text-align: right;\n",
       "    }\n",
       "</style>\n",
       "<table border=\"1\" class=\"dataframe\">\n",
       "  <thead>\n",
       "    <tr style=\"text-align: right;\">\n",
       "      <th></th>\n",
       "      <th>video_duration_sec</th>\n",
       "      <th>video_view_count</th>\n",
       "      <th>video_share_count</th>\n",
       "      <th>video_download_count</th>\n",
       "      <th>video_comment_count</th>\n",
       "      <th>text_length</th>\n",
       "      <th>claim_status_opinion</th>\n",
       "      <th>author_ban_status_banned</th>\n",
       "      <th>author_ban_status_under review</th>\n",
       "    </tr>\n",
       "  </thead>\n",
       "  <tbody>\n",
       "    <tr>\n",
       "      <th>0</th>\n",
       "      <td>27</td>\n",
       "      <td>519.0</td>\n",
       "      <td>65.0</td>\n",
       "      <td>1.0</td>\n",
       "      <td>0.0</td>\n",
       "      <td>65</td>\n",
       "      <td>1.0</td>\n",
       "      <td>0.0</td>\n",
       "      <td>0.0</td>\n",
       "    </tr>\n",
       "    <tr>\n",
       "      <th>1</th>\n",
       "      <td>60</td>\n",
       "      <td>7539.0</td>\n",
       "      <td>181.0</td>\n",
       "      <td>0.0</td>\n",
       "      <td>0.0</td>\n",
       "      <td>64</td>\n",
       "      <td>1.0</td>\n",
       "      <td>0.0</td>\n",
       "      <td>0.0</td>\n",
       "    </tr>\n",
       "    <tr>\n",
       "      <th>2</th>\n",
       "      <td>59</td>\n",
       "      <td>5129.0</td>\n",
       "      <td>179.0</td>\n",
       "      <td>2.0</td>\n",
       "      <td>0.0</td>\n",
       "      <td>102</td>\n",
       "      <td>1.0</td>\n",
       "      <td>0.0</td>\n",
       "      <td>0.0</td>\n",
       "    </tr>\n",
       "    <tr>\n",
       "      <th>3</th>\n",
       "      <td>19</td>\n",
       "      <td>792813.0</td>\n",
       "      <td>56597.0</td>\n",
       "      <td>5146.0</td>\n",
       "      <td>728.5</td>\n",
       "      <td>105</td>\n",
       "      <td>0.0</td>\n",
       "      <td>0.0</td>\n",
       "      <td>0.0</td>\n",
       "    </tr>\n",
       "    <tr>\n",
       "      <th>4</th>\n",
       "      <td>54</td>\n",
       "      <td>2044.0</td>\n",
       "      <td>68.0</td>\n",
       "      <td>19.0</td>\n",
       "      <td>2.0</td>\n",
       "      <td>51</td>\n",
       "      <td>1.0</td>\n",
       "      <td>0.0</td>\n",
       "      <td>0.0</td>\n",
       "    </tr>\n",
       "  </tbody>\n",
       "</table>\n",
       "</div>"
      ],
      "text/plain": [
       "   video_duration_sec  video_view_count  video_share_count  \\\n",
       "0                  27             519.0               65.0   \n",
       "1                  60            7539.0              181.0   \n",
       "2                  59            5129.0              179.0   \n",
       "3                  19          792813.0            56597.0   \n",
       "4                  54            2044.0               68.0   \n",
       "\n",
       "   video_download_count  video_comment_count  text_length  \\\n",
       "0                   1.0                  0.0           65   \n",
       "1                   0.0                  0.0           64   \n",
       "2                   2.0                  0.0          102   \n",
       "3                5146.0                728.5          105   \n",
       "4                  19.0                  2.0           51   \n",
       "\n",
       "   claim_status_opinion  author_ban_status_banned  \\\n",
       "0                   1.0                       0.0   \n",
       "1                   1.0                       0.0   \n",
       "2                   1.0                       0.0   \n",
       "3                   0.0                       0.0   \n",
       "4                   1.0                       0.0   \n",
       "\n",
       "   author_ban_status_under review  \n",
       "0                             0.0  \n",
       "1                             0.0  \n",
       "2                             0.0  \n",
       "3                             0.0  \n",
       "4                             0.0  "
      ]
     },
     "execution_count": 199,
     "metadata": {},
     "output_type": "execute_result"
    }
   ],
   "source": [
    "# Concatenate `X_test` and `X_test_encoded_df` to form the final dataframe for training data (`X_test_final`)\n",
    "# Note: Using `.reset_index(drop=True)` to reset the index in X_test after dropping `claim_status`, and `author_ban_status`,\n",
    "# so that the indices align with those in `X_test_encoded_df` and `test_count_df`\n",
    "X_test_final = pd.concat([X_test.drop(columns=[\"claim_status\", \"author_ban_status\"]).reset_index(drop=True), X_test_encoded_df], axis=1)\n",
    "\n",
    "# Display first few rows\n",
    "X_test_final.head()"
   ]
  },
  {
   "cell_type": "code",
   "execution_count": 200,
   "metadata": {},
   "outputs": [
    {
     "data": {
      "text/plain": [
       "array([1., 1., 1., ..., 1., 1., 1.], shape=(8942,))"
      ]
     },
     "execution_count": 200,
     "metadata": {},
     "output_type": "execute_result"
    }
   ],
   "source": [
    "# Usando o modelo de regressão logística para obter previsões no conjunto de teste codificado\n",
    "y_pred = log_clf.predict(X_test_final)\n",
    "y_pred"
   ]
  },
  {
   "cell_type": "code",
   "execution_count": 201,
   "metadata": {},
   "outputs": [
    {
     "data": {
      "application/vnd.microsoft.datawrangler.viewer.v0+json": {
       "columns": [
        {
         "name": "index",
         "rawType": "int64",
         "type": "integer"
        },
        {
         "name": "verified_status",
         "rawType": "object",
         "type": "string"
        }
       ],
       "ref": "c39e550e-03eb-4678-b38b-e62bfb768da1",
       "rows": [
        [
         "21061",
         "verified"
        ],
        [
         "31748",
         "verified"
        ],
        [
         "20197",
         "verified"
        ],
        [
         "5727",
         "not verified"
        ],
        [
         "11607",
         "not verified"
        ],
        [
         "30731",
         "verified"
        ],
        [
         "19956",
         "verified"
        ],
        [
         "20337",
         "verified"
        ],
        [
         "28642",
         "verified"
        ],
        [
         "31729",
         "verified"
        ],
        [
         "26883",
         "verified"
        ],
        [
         "24819",
         "verified"
        ],
        [
         "19883",
         "verified"
        ],
        [
         "22581",
         "verified"
        ],
        [
         "10331",
         "not verified"
        ],
        [
         "10823",
         "not verified"
        ],
        [
         "30543",
         "verified"
        ],
        [
         "31384",
         "verified"
        ],
        [
         "19603",
         "verified"
        ],
        [
         "17571",
         "not verified"
        ],
        [
         "28134",
         "verified"
        ],
        [
         "22150",
         "verified"
        ],
        [
         "30863",
         "verified"
        ],
        [
         "34282",
         "verified"
        ],
        [
         "32398",
         "verified"
        ],
        [
         "9348",
         "not verified"
        ],
        [
         "26062",
         "verified"
        ],
        [
         "6093",
         "not verified"
        ],
        [
         "6823",
         "not verified"
        ],
        [
         "23500",
         "verified"
        ],
        [
         "6043",
         "not verified"
        ],
        [
         "21968",
         "verified"
        ],
        [
         "8327",
         "not verified"
        ],
        [
         "12455",
         "not verified"
        ],
        [
         "9342",
         "not verified"
        ],
        [
         "8512",
         "not verified"
        ],
        [
         "26955",
         "verified"
        ],
        [
         "13475",
         "not verified"
        ],
        [
         "1799",
         "not verified"
        ],
        [
         "17241",
         "not verified"
        ],
        [
         "15288",
         "not verified"
        ],
        [
         "18160",
         "verified"
        ],
        [
         "35438",
         "verified"
        ],
        [
         "34237",
         "verified"
        ],
        [
         "24870",
         "verified"
        ],
        [
         "6274",
         "not verified"
        ],
        [
         "18935",
         "verified"
        ],
        [
         "17085",
         "not verified"
        ],
        [
         "29766",
         "verified"
        ],
        [
         "23852",
         "verified"
        ]
       ],
       "shape": {
        "columns": 1,
        "rows": 8942
       }
      },
      "text/plain": [
       "21061        verified\n",
       "31748        verified\n",
       "20197        verified\n",
       "5727     not verified\n",
       "11607    not verified\n",
       "             ...     \n",
       "14756    not verified\n",
       "26564        verified\n",
       "14800    not verified\n",
       "35705        verified\n",
       "31060        verified\n",
       "Name: verified_status, Length: 8942, dtype: object"
      ]
     },
     "execution_count": 201,
     "metadata": {},
     "output_type": "execute_result"
    }
   ],
   "source": [
    "y_test"
   ]
  },
  {
   "cell_type": "code",
   "execution_count": 202,
   "metadata": {},
   "outputs": [
    {
     "data": {
      "text/plain": [
       "array([1., 1., 1., ..., 0., 1., 1.], shape=(8942,))"
      ]
     },
     "execution_count": 202,
     "metadata": {},
     "output_type": "execute_result"
    }
   ],
   "source": [
    "y_test_final = y_encoder.transform(y_test.values.reshape(-1, 1)).ravel()\n",
    "y_test_final"
   ]
  },
  {
   "cell_type": "code",
   "execution_count": 203,
   "metadata": {},
   "outputs": [
    {
     "data": {
      "text/plain": [
       "((26826, 9), (26826,), (8942, 9), (8942,))"
      ]
     },
     "execution_count": 203,
     "metadata": {},
     "output_type": "execute_result"
    }
   ],
   "source": [
    "X_train_final.shape, y_train_final.shape, X_test_final.shape, y_test_final.shape\n",
    "# Como posso ver, as dimensões dos dados de treino e teste estão corretas, \n",
    "# e os dados estão prontos para serem usados no modelo de regressão logística."
   ]
  },
  {
   "cell_type": "code",
   "execution_count": 204,
   "metadata": {},
   "outputs": [
    {
     "data": {
      "image/png": "[encoded data removed]",
      "text/plain": [
       "<Figure size 640x480 with 2 Axes>"
      ]
     },
     "metadata": {},
     "output_type": "display_data"
    }
   ],
   "source": [
    "# Construindo a matriz de confusão para avaliar o desempenho do modelo.\n",
    "log_cm = confusion_matrix(y_test_final, y_pred, labels=log_clf.classes_)\n",
    "\n",
    "# Criando o gráfico de matriz de confusão\n",
    "log_disp = ConfusionMatrixDisplay(confusion_matrix=log_cm, display_labels=log_clf.classes_)\n",
    "fig, ax = plt.subplots()\n",
    "log_disp.plot(ax=ax)\n",
    "ax.grid(False)  # Remover as gridlines\n",
    "# Mostrar o gráfico\n",
    "plt.show()"
   ]
  },
  {
   "cell_type": "code",
   "execution_count": 205,
   "metadata": {},
   "outputs": [
    {
     "data": {
      "application/vnd.microsoft.datawrangler.viewer.v0+json": {
       "columns": [
        {
         "name": "index",
         "rawType": "object",
         "type": "string"
        },
        {
         "name": "precision",
         "rawType": "float64",
         "type": "float"
        },
        {
         "name": "recall",
         "rawType": "float64",
         "type": "float"
        },
        {
         "name": "f1-score",
         "rawType": "float64",
         "type": "float"
        },
        {
         "name": "support",
         "rawType": "float64",
         "type": "float"
        }
       ],
       "ref": "1ef63719-d386-495e-9ca2-652143ac55e5",
       "rows": [
        [
         "verified",
         "0.7538910505836576",
         "0.521417358152052",
         "0.6164655972424765",
         "4459.0"
        ],
        [
         "not verified",
         "0.6357118470467736",
         "0.830693731875976",
         "0.7202398220674983",
         "4483.0"
        ],
        [
         "accuracy",
         "0.6764705882352942",
         "0.6764705882352942",
         "0.6764705882352942",
         "0.6764705882352942"
        ],
        [
         "macro avg",
         "0.6948014488152157",
         "0.676055545014014",
         "0.6683527096549874",
         "8942.0"
        ],
        [
         "weighted avg",
         "0.6946428544915249",
         "0.6764705882352942",
         "0.6684919727614401",
         "8942.0"
        ]
       ],
       "shape": {
        "columns": 4,
        "rows": 5
       }
      },
      "text/html": [
       "<div>\n",
       "<style scoped>\n",
       "    .dataframe tbody tr th:only-of-type {\n",
       "        vertical-align: middle;\n",
       "    }\n",
       "\n",
       "    .dataframe tbody tr th {\n",
       "        vertical-align: top;\n",
       "    }\n",
       "\n",
       "    .dataframe thead th {\n",
       "        text-align: right;\n",
       "    }\n",
       "</style>\n",
       "<table border=\"1\" class=\"dataframe\">\n",
       "  <thead>\n",
       "    <tr style=\"text-align: right;\">\n",
       "      <th></th>\n",
       "      <th>precision</th>\n",
       "      <th>recall</th>\n",
       "      <th>f1-score</th>\n",
       "      <th>support</th>\n",
       "    </tr>\n",
       "  </thead>\n",
       "  <tbody>\n",
       "    <tr>\n",
       "      <th>verified</th>\n",
       "      <td>0.753891</td>\n",
       "      <td>0.521417</td>\n",
       "      <td>0.616466</td>\n",
       "      <td>4459.000000</td>\n",
       "    </tr>\n",
       "    <tr>\n",
       "      <th>not verified</th>\n",
       "      <td>0.635712</td>\n",
       "      <td>0.830694</td>\n",
       "      <td>0.720240</td>\n",
       "      <td>4483.000000</td>\n",
       "    </tr>\n",
       "    <tr>\n",
       "      <th>accuracy</th>\n",
       "      <td>0.676471</td>\n",
       "      <td>0.676471</td>\n",
       "      <td>0.676471</td>\n",
       "      <td>0.676471</td>\n",
       "    </tr>\n",
       "    <tr>\n",
       "      <th>macro avg</th>\n",
       "      <td>0.694801</td>\n",
       "      <td>0.676056</td>\n",
       "      <td>0.668353</td>\n",
       "      <td>8942.000000</td>\n",
       "    </tr>\n",
       "    <tr>\n",
       "      <th>weighted avg</th>\n",
       "      <td>0.694643</td>\n",
       "      <td>0.676471</td>\n",
       "      <td>0.668492</td>\n",
       "      <td>8942.000000</td>\n",
       "    </tr>\n",
       "  </tbody>\n",
       "</table>\n",
       "</div>"
      ],
      "text/plain": [
       "              precision    recall  f1-score      support\n",
       "verified       0.753891  0.521417  0.616466  4459.000000\n",
       "not verified   0.635712  0.830694  0.720240  4483.000000\n",
       "accuracy       0.676471  0.676471  0.676471     0.676471\n",
       "macro avg      0.694801  0.676056  0.668353  8942.000000\n",
       "weighted avg   0.694643  0.676471  0.668492  8942.000000"
      ]
     },
     "execution_count": 205,
     "metadata": {},
     "output_type": "execute_result"
    }
   ],
   "source": [
    "# Create classification report for logistic regression model\n",
    "target_labels = [\"verified\", \"not verified\"]\n",
    "pd.DataFrame(classification_report(y_test_final, y_pred, target_names=target_labels, output_dict=True)).transpose()"
   ]
  },
  {
   "cell_type": "markdown",
   "metadata": {},
   "source": [
    "### Resultados do modelo"
   ]
  },
  {
   "cell_type": "code",
   "execution_count": 206,
   "metadata": {},
   "outputs": [
    {
     "data": {
      "text/plain": [
       "9"
      ]
     },
     "execution_count": 206,
     "metadata": {},
     "output_type": "execute_result"
    }
   ],
   "source": [
    "len(log_clf.feature_names_in_)"
   ]
  },
  {
   "cell_type": "code",
   "execution_count": 207,
   "metadata": {},
   "outputs": [
    {
     "data": {
      "text/plain": [
       "9"
      ]
     },
     "execution_count": 207,
     "metadata": {},
     "output_type": "execute_result"
    }
   ],
   "source": [
    "len(log_clf.coef_[0])"
   ]
  },
  {
   "cell_type": "code",
   "execution_count": 208,
   "metadata": {},
   "outputs": [],
   "source": [
    "# Pegando os nomes e coeficientes do modelo de regressão logística.\n",
    "# Colocando em um DataFrame para facilitar a leitura\n",
    "coefficients = pd.DataFrame(data={\"Feature Name\":log_clf.feature_names_in_, \"Model Coefficient\":log_clf.coef_[0]})\n",
    "coefficients.sort_values(by='Model Coefficient', ascending=False, inplace=True)"
   ]
  },
  {
   "cell_type": "code",
   "execution_count": 209,
   "metadata": {},
   "outputs": [
    {
     "data": {
      "application/vnd.microsoft.datawrangler.viewer.v0+json": {
       "columns": [
        {
         "name": "index",
         "rawType": "int64",
         "type": "integer"
        },
        {
         "name": "Feature Name",
         "rawType": "object",
         "type": "string"
        },
        {
         "name": "Model Coefficient",
         "rawType": "float64",
         "type": "float"
        },
        {
         "name": "Odds_ratio",
         "rawType": "float64",
         "type": "float"
        }
       ],
       "ref": "3dfd761d-2330-4b8f-9677-22863781991a",
       "rows": [
        [
         "6",
         "claim_status_opinion",
         "1.7289057964338974",
         "5.634485260300425"
        ],
        [
         "4",
         "video_comment_count",
         "0.0006162249449313894",
         "1.000616414850529"
        ],
        [
         "2",
         "video_share_count",
         "5.3207100118299955e-06",
         "1.0000053207241668"
        ],
        [
         "1",
         "video_view_count",
         "-1.4478610578826757e-07",
         "0.9999998552139047"
        ],
        [
         "3",
         "video_download_count",
         "-0.000126502578969814",
         "0.999873505422144"
        ],
        [
         "5",
         "text_length",
         "-0.0006833132510813124",
         "0.9993169201542522"
        ],
        [
         "0",
         "video_duration_sec",
         "-0.0016892462889211922",
         "0.998312179684538"
        ],
        [
         "8",
         "author_ban_status_under review",
         "-0.11274330006684623",
         "0.8933799612602986"
        ],
        [
         "7",
         "author_ban_status_banned",
         "-0.40966378713781937",
         "0.6638734153998184"
        ]
       ],
       "shape": {
        "columns": 3,
        "rows": 9
       }
      },
      "text/html": [
       "<div>\n",
       "<style scoped>\n",
       "    .dataframe tbody tr th:only-of-type {\n",
       "        vertical-align: middle;\n",
       "    }\n",
       "\n",
       "    .dataframe tbody tr th {\n",
       "        vertical-align: top;\n",
       "    }\n",
       "\n",
       "    .dataframe thead th {\n",
       "        text-align: right;\n",
       "    }\n",
       "</style>\n",
       "<table border=\"1\" class=\"dataframe\">\n",
       "  <thead>\n",
       "    <tr style=\"text-align: right;\">\n",
       "      <th></th>\n",
       "      <th>Feature Name</th>\n",
       "      <th>Model Coefficient</th>\n",
       "      <th>Odds_ratio</th>\n",
       "    </tr>\n",
       "  </thead>\n",
       "  <tbody>\n",
       "    <tr>\n",
       "      <th>6</th>\n",
       "      <td>claim_status_opinion</td>\n",
       "      <td>1.728906e+00</td>\n",
       "      <td>5.634485</td>\n",
       "    </tr>\n",
       "    <tr>\n",
       "      <th>4</th>\n",
       "      <td>video_comment_count</td>\n",
       "      <td>6.162249e-04</td>\n",
       "      <td>1.000616</td>\n",
       "    </tr>\n",
       "    <tr>\n",
       "      <th>2</th>\n",
       "      <td>video_share_count</td>\n",
       "      <td>5.320710e-06</td>\n",
       "      <td>1.000005</td>\n",
       "    </tr>\n",
       "    <tr>\n",
       "      <th>1</th>\n",
       "      <td>video_view_count</td>\n",
       "      <td>-1.447861e-07</td>\n",
       "      <td>1.000000</td>\n",
       "    </tr>\n",
       "    <tr>\n",
       "      <th>3</th>\n",
       "      <td>video_download_count</td>\n",
       "      <td>-1.265026e-04</td>\n",
       "      <td>0.999874</td>\n",
       "    </tr>\n",
       "    <tr>\n",
       "      <th>5</th>\n",
       "      <td>text_length</td>\n",
       "      <td>-6.833133e-04</td>\n",
       "      <td>0.999317</td>\n",
       "    </tr>\n",
       "    <tr>\n",
       "      <th>0</th>\n",
       "      <td>video_duration_sec</td>\n",
       "      <td>-1.689246e-03</td>\n",
       "      <td>0.998312</td>\n",
       "    </tr>\n",
       "    <tr>\n",
       "      <th>8</th>\n",
       "      <td>author_ban_status_under review</td>\n",
       "      <td>-1.127433e-01</td>\n",
       "      <td>0.893380</td>\n",
       "    </tr>\n",
       "    <tr>\n",
       "      <th>7</th>\n",
       "      <td>author_ban_status_banned</td>\n",
       "      <td>-4.096638e-01</td>\n",
       "      <td>0.663873</td>\n",
       "    </tr>\n",
       "  </tbody>\n",
       "</table>\n",
       "</div>"
      ],
      "text/plain": [
       "                     Feature Name  Model Coefficient  Odds_ratio\n",
       "6            claim_status_opinion       1.728906e+00    5.634485\n",
       "4             video_comment_count       6.162249e-04    1.000616\n",
       "2               video_share_count       5.320710e-06    1.000005\n",
       "1                video_view_count      -1.447861e-07    1.000000\n",
       "3            video_download_count      -1.265026e-04    0.999874\n",
       "5                     text_length      -6.833133e-04    0.999317\n",
       "0              video_duration_sec      -1.689246e-03    0.998312\n",
       "8  author_ban_status_under review      -1.127433e-01    0.893380\n",
       "7        author_ban_status_banned      -4.096638e-01    0.663873"
      ]
     },
     "execution_count": 209,
     "metadata": {},
     "output_type": "execute_result"
    }
   ],
   "source": [
    "coefficients['Odds_ratio'] = np.exp(coefficients['Model Coefficient'])\n",
    "coefficients"
   ]
  },
  {
   "cell_type": "code",
   "execution_count": 210,
   "metadata": {},
   "outputs": [
    {
     "data": {
      "application/vnd.microsoft.datawrangler.viewer.v0+json": {
       "columns": [
        {
         "name": "index",
         "rawType": "int64",
         "type": "integer"
        },
        {
         "name": "Feature Name",
         "rawType": "object",
         "type": "string"
        },
        {
         "name": "Model Coefficient",
         "rawType": "float64",
         "type": "float"
        },
        {
         "name": "Odds_ratio",
         "rawType": "float64",
         "type": "float"
        },
        {
         "name": "Odds_Ratio_not_verified",
         "rawType": "float64",
         "type": "float"
        }
       ],
       "ref": "eb2d3596-7a12-42fd-b664-bc323cff809f",
       "rows": [
        [
         "6",
         "claim_status_opinion",
         "1.7289057964338974",
         "5.634485260300425",
         "0.17747850137186816"
        ],
        [
         "4",
         "video_comment_count",
         "0.0006162249449313894",
         "1.000616414850529",
         "0.9993839648826658"
        ],
        [
         "2",
         "video_share_count",
         "5.3207100118299955e-06",
         "1.0000053207241668",
         "0.9999946793041431"
        ],
        [
         "1",
         "video_view_count",
         "-1.4478610578826757e-07",
         "0.9999998552139047",
         "1.0000001447861162"
        ],
        [
         "3",
         "video_download_count",
         "-0.000126502578969814",
         "0.999873505422144",
         "1.0001265105807584"
        ],
        [
         "5",
         "text_length",
         "-0.0006833132510813124",
         "0.9993169201542522",
         "1.000683546762765"
        ],
        [
         "0",
         "video_duration_sec",
         "-0.0016892462889211922",
         "0.998312179684538",
         "1.001690673869165"
        ],
        [
         "8",
         "author_ban_status_under review",
         "-0.11274330006684623",
         "0.8933799612602986",
         "1.1193445603920773"
        ],
        [
         "7",
         "author_ban_status_banned",
         "-0.40966378713781937",
         "0.6638734153998184",
         "1.506311258747647"
        ]
       ],
       "shape": {
        "columns": 4,
        "rows": 9
       }
      },
      "text/html": [
       "<div>\n",
       "<style scoped>\n",
       "    .dataframe tbody tr th:only-of-type {\n",
       "        vertical-align: middle;\n",
       "    }\n",
       "\n",
       "    .dataframe tbody tr th {\n",
       "        vertical-align: top;\n",
       "    }\n",
       "\n",
       "    .dataframe thead th {\n",
       "        text-align: right;\n",
       "    }\n",
       "</style>\n",
       "<table border=\"1\" class=\"dataframe\">\n",
       "  <thead>\n",
       "    <tr style=\"text-align: right;\">\n",
       "      <th></th>\n",
       "      <th>Feature Name</th>\n",
       "      <th>Model Coefficient</th>\n",
       "      <th>Odds_ratio</th>\n",
       "      <th>Odds_Ratio_not_verified</th>\n",
       "    </tr>\n",
       "  </thead>\n",
       "  <tbody>\n",
       "    <tr>\n",
       "      <th>6</th>\n",
       "      <td>claim_status_opinion</td>\n",
       "      <td>1.728906e+00</td>\n",
       "      <td>5.634485</td>\n",
       "      <td>0.177479</td>\n",
       "    </tr>\n",
       "    <tr>\n",
       "      <th>4</th>\n",
       "      <td>video_comment_count</td>\n",
       "      <td>6.162249e-04</td>\n",
       "      <td>1.000616</td>\n",
       "      <td>0.999384</td>\n",
       "    </tr>\n",
       "    <tr>\n",
       "      <th>2</th>\n",
       "      <td>video_share_count</td>\n",
       "      <td>5.320710e-06</td>\n",
       "      <td>1.000005</td>\n",
       "      <td>0.999995</td>\n",
       "    </tr>\n",
       "    <tr>\n",
       "      <th>1</th>\n",
       "      <td>video_view_count</td>\n",
       "      <td>-1.447861e-07</td>\n",
       "      <td>1.000000</td>\n",
       "      <td>1.000000</td>\n",
       "    </tr>\n",
       "    <tr>\n",
       "      <th>3</th>\n",
       "      <td>video_download_count</td>\n",
       "      <td>-1.265026e-04</td>\n",
       "      <td>0.999874</td>\n",
       "      <td>1.000127</td>\n",
       "    </tr>\n",
       "    <tr>\n",
       "      <th>5</th>\n",
       "      <td>text_length</td>\n",
       "      <td>-6.833133e-04</td>\n",
       "      <td>0.999317</td>\n",
       "      <td>1.000684</td>\n",
       "    </tr>\n",
       "    <tr>\n",
       "      <th>0</th>\n",
       "      <td>video_duration_sec</td>\n",
       "      <td>-1.689246e-03</td>\n",
       "      <td>0.998312</td>\n",
       "      <td>1.001691</td>\n",
       "    </tr>\n",
       "    <tr>\n",
       "      <th>8</th>\n",
       "      <td>author_ban_status_under review</td>\n",
       "      <td>-1.127433e-01</td>\n",
       "      <td>0.893380</td>\n",
       "      <td>1.119345</td>\n",
       "    </tr>\n",
       "    <tr>\n",
       "      <th>7</th>\n",
       "      <td>author_ban_status_banned</td>\n",
       "      <td>-4.096638e-01</td>\n",
       "      <td>0.663873</td>\n",
       "      <td>1.506311</td>\n",
       "    </tr>\n",
       "  </tbody>\n",
       "</table>\n",
       "</div>"
      ],
      "text/plain": [
       "                     Feature Name  Model Coefficient  Odds_ratio  \\\n",
       "6            claim_status_opinion       1.728906e+00    5.634485   \n",
       "4             video_comment_count       6.162249e-04    1.000616   \n",
       "2               video_share_count       5.320710e-06    1.000005   \n",
       "1                video_view_count      -1.447861e-07    1.000000   \n",
       "3            video_download_count      -1.265026e-04    0.999874   \n",
       "5                     text_length      -6.833133e-04    0.999317   \n",
       "0              video_duration_sec      -1.689246e-03    0.998312   \n",
       "8  author_ban_status_under review      -1.127433e-01    0.893380   \n",
       "7        author_ban_status_banned      -4.096638e-01    0.663873   \n",
       "\n",
       "   Odds_Ratio_not_verified  \n",
       "6                 0.177479  \n",
       "4                 0.999384  \n",
       "2                 0.999995  \n",
       "1                 1.000000  \n",
       "3                 1.000127  \n",
       "5                 1.000684  \n",
       "0                 1.001691  \n",
       "8                 1.119345  \n",
       "7                 1.506311  "
      ]
     },
     "execution_count": 210,
     "metadata": {},
     "output_type": "execute_result"
    }
   ],
   "source": [
    "coefficients['Odds_Ratio_not_verified'] = 1 / coefficients['Odds_ratio']\n",
    "coefficients"
   ]
  },
  {
   "cell_type": "code",
   "execution_count": 212,
   "metadata": {},
   "outputs": [
    {
     "data": {
      "application/vnd.microsoft.datawrangler.viewer.v0+json": {
       "columns": [
        {
         "name": "index",
         "rawType": "object",
         "type": "string"
        },
        {
         "name": "precision",
         "rawType": "float64",
         "type": "float"
        },
        {
         "name": "recall",
         "rawType": "float64",
         "type": "float"
        },
        {
         "name": "f1-score",
         "rawType": "float64",
         "type": "float"
        },
        {
         "name": "support",
         "rawType": "float64",
         "type": "float"
        }
       ],
       "ref": "6420985a-722f-434f-9c84-4402291e2277",
       "rows": [
        [
         "verified",
         "0.7538910505836576",
         "0.521417358152052",
         "0.6164655972424765",
         "4459.0"
        ],
        [
         "not verified",
         "0.6357118470467736",
         "0.830693731875976",
         "0.7202398220674983",
         "4483.0"
        ],
        [
         "accuracy",
         "0.6764705882352942",
         "0.6764705882352942",
         "0.6764705882352942",
         "0.6764705882352942"
        ],
        [
         "macro avg",
         "0.6948014488152157",
         "0.676055545014014",
         "0.6683527096549874",
         "8942.0"
        ],
        [
         "weighted avg",
         "0.6946428544915249",
         "0.6764705882352942",
         "0.6684919727614401",
         "8942.0"
        ]
       ],
       "shape": {
        "columns": 4,
        "rows": 5
       }
      },
      "text/html": [
       "<div>\n",
       "<style scoped>\n",
       "    .dataframe tbody tr th:only-of-type {\n",
       "        vertical-align: middle;\n",
       "    }\n",
       "\n",
       "    .dataframe tbody tr th {\n",
       "        vertical-align: top;\n",
       "    }\n",
       "\n",
       "    .dataframe thead th {\n",
       "        text-align: right;\n",
       "    }\n",
       "</style>\n",
       "<table border=\"1\" class=\"dataframe\">\n",
       "  <thead>\n",
       "    <tr style=\"text-align: right;\">\n",
       "      <th></th>\n",
       "      <th>precision</th>\n",
       "      <th>recall</th>\n",
       "      <th>f1-score</th>\n",
       "      <th>support</th>\n",
       "    </tr>\n",
       "  </thead>\n",
       "  <tbody>\n",
       "    <tr>\n",
       "      <th>verified</th>\n",
       "      <td>0.753891</td>\n",
       "      <td>0.521417</td>\n",
       "      <td>0.616466</td>\n",
       "      <td>4459.000000</td>\n",
       "    </tr>\n",
       "    <tr>\n",
       "      <th>not verified</th>\n",
       "      <td>0.635712</td>\n",
       "      <td>0.830694</td>\n",
       "      <td>0.720240</td>\n",
       "      <td>4483.000000</td>\n",
       "    </tr>\n",
       "    <tr>\n",
       "      <th>accuracy</th>\n",
       "      <td>0.676471</td>\n",
       "      <td>0.676471</td>\n",
       "      <td>0.676471</td>\n",
       "      <td>0.676471</td>\n",
       "    </tr>\n",
       "    <tr>\n",
       "      <th>macro avg</th>\n",
       "      <td>0.694801</td>\n",
       "      <td>0.676056</td>\n",
       "      <td>0.668353</td>\n",
       "      <td>8942.000000</td>\n",
       "    </tr>\n",
       "    <tr>\n",
       "      <th>weighted avg</th>\n",
       "      <td>0.694643</td>\n",
       "      <td>0.676471</td>\n",
       "      <td>0.668492</td>\n",
       "      <td>8942.000000</td>\n",
       "    </tr>\n",
       "  </tbody>\n",
       "</table>\n",
       "</div>"
      ],
      "text/plain": [
       "              precision    recall  f1-score      support\n",
       "verified       0.753891  0.521417  0.616466  4459.000000\n",
       "not verified   0.635712  0.830694  0.720240  4483.000000\n",
       "accuracy       0.676471  0.676471  0.676471     0.676471\n",
       "macro avg      0.694801  0.676056  0.668353  8942.000000\n",
       "weighted avg   0.694643  0.676471  0.668492  8942.000000"
      ]
     },
     "metadata": {},
     "output_type": "display_data"
    },
    {
     "data": {
      "application/vnd.microsoft.datawrangler.viewer.v0+json": {
       "columns": [
        {
         "name": "index",
         "rawType": "int64",
         "type": "integer"
        },
        {
         "name": "Feature Name",
         "rawType": "object",
         "type": "string"
        },
        {
         "name": "Model Coefficient",
         "rawType": "float64",
         "type": "float"
        },
        {
         "name": "Odds_ratio",
         "rawType": "float64",
         "type": "float"
        },
        {
         "name": "Odds_Ratio_not_verified",
         "rawType": "float64",
         "type": "float"
        }
       ],
       "ref": "58faf947-c658-4bb1-a0f3-523123b53bce",
       "rows": [
        [
         "7",
         "author_ban_status_banned",
         "-0.40966378713781937",
         "0.6638734153998184",
         "1.506311258747647"
        ],
        [
         "8",
         "author_ban_status_under review",
         "-0.11274330006684623",
         "0.8933799612602986",
         "1.1193445603920773"
        ],
        [
         "0",
         "video_duration_sec",
         "-0.0016892462889211922",
         "0.998312179684538",
         "1.001690673869165"
        ],
        [
         "5",
         "text_length",
         "-0.0006833132510813124",
         "0.9993169201542522",
         "1.000683546762765"
        ],
        [
         "3",
         "video_download_count",
         "-0.000126502578969814",
         "0.999873505422144",
         "1.0001265105807584"
        ],
        [
         "1",
         "video_view_count",
         "-1.4478610578826757e-07",
         "0.9999998552139047",
         "1.0000001447861162"
        ],
        [
         "2",
         "video_share_count",
         "5.3207100118299955e-06",
         "1.0000053207241668",
         "0.9999946793041431"
        ],
        [
         "4",
         "video_comment_count",
         "0.0006162249449313894",
         "1.000616414850529",
         "0.9993839648826658"
        ],
        [
         "6",
         "claim_status_opinion",
         "1.7289057964338974",
         "5.634485260300425",
         "0.17747850137186816"
        ]
       ],
       "shape": {
        "columns": 4,
        "rows": 9
       }
      },
      "text/html": [
       "<div>\n",
       "<style scoped>\n",
       "    .dataframe tbody tr th:only-of-type {\n",
       "        vertical-align: middle;\n",
       "    }\n",
       "\n",
       "    .dataframe tbody tr th {\n",
       "        vertical-align: top;\n",
       "    }\n",
       "\n",
       "    .dataframe thead th {\n",
       "        text-align: right;\n",
       "    }\n",
       "</style>\n",
       "<table border=\"1\" class=\"dataframe\">\n",
       "  <thead>\n",
       "    <tr style=\"text-align: right;\">\n",
       "      <th></th>\n",
       "      <th>Feature Name</th>\n",
       "      <th>Model Coefficient</th>\n",
       "      <th>Odds_ratio</th>\n",
       "      <th>Odds_Ratio_not_verified</th>\n",
       "    </tr>\n",
       "  </thead>\n",
       "  <tbody>\n",
       "    <tr>\n",
       "      <th>7</th>\n",
       "      <td>author_ban_status_banned</td>\n",
       "      <td>-4.096638e-01</td>\n",
       "      <td>0.663873</td>\n",
       "      <td>1.506311</td>\n",
       "    </tr>\n",
       "    <tr>\n",
       "      <th>8</th>\n",
       "      <td>author_ban_status_under review</td>\n",
       "      <td>-1.127433e-01</td>\n",
       "      <td>0.893380</td>\n",
       "      <td>1.119345</td>\n",
       "    </tr>\n",
       "    <tr>\n",
       "      <th>0</th>\n",
       "      <td>video_duration_sec</td>\n",
       "      <td>-1.689246e-03</td>\n",
       "      <td>0.998312</td>\n",
       "      <td>1.001691</td>\n",
       "    </tr>\n",
       "    <tr>\n",
       "      <th>5</th>\n",
       "      <td>text_length</td>\n",
       "      <td>-6.833133e-04</td>\n",
       "      <td>0.999317</td>\n",
       "      <td>1.000684</td>\n",
       "    </tr>\n",
       "    <tr>\n",
       "      <th>3</th>\n",
       "      <td>video_download_count</td>\n",
       "      <td>-1.265026e-04</td>\n",
       "      <td>0.999874</td>\n",
       "      <td>1.000127</td>\n",
       "    </tr>\n",
       "    <tr>\n",
       "      <th>1</th>\n",
       "      <td>video_view_count</td>\n",
       "      <td>-1.447861e-07</td>\n",
       "      <td>1.000000</td>\n",
       "      <td>1.000000</td>\n",
       "    </tr>\n",
       "    <tr>\n",
       "      <th>2</th>\n",
       "      <td>video_share_count</td>\n",
       "      <td>5.320710e-06</td>\n",
       "      <td>1.000005</td>\n",
       "      <td>0.999995</td>\n",
       "    </tr>\n",
       "    <tr>\n",
       "      <th>4</th>\n",
       "      <td>video_comment_count</td>\n",
       "      <td>6.162249e-04</td>\n",
       "      <td>1.000616</td>\n",
       "      <td>0.999384</td>\n",
       "    </tr>\n",
       "    <tr>\n",
       "      <th>6</th>\n",
       "      <td>claim_status_opinion</td>\n",
       "      <td>1.728906e+00</td>\n",
       "      <td>5.634485</td>\n",
       "      <td>0.177479</td>\n",
       "    </tr>\n",
       "  </tbody>\n",
       "</table>\n",
       "</div>"
      ],
      "text/plain": [
       "                     Feature Name  Model Coefficient  Odds_ratio  \\\n",
       "7        author_ban_status_banned      -4.096638e-01    0.663873   \n",
       "8  author_ban_status_under review      -1.127433e-01    0.893380   \n",
       "0              video_duration_sec      -1.689246e-03    0.998312   \n",
       "5                     text_length      -6.833133e-04    0.999317   \n",
       "3            video_download_count      -1.265026e-04    0.999874   \n",
       "1                video_view_count      -1.447861e-07    1.000000   \n",
       "2               video_share_count       5.320710e-06    1.000005   \n",
       "4             video_comment_count       6.162249e-04    1.000616   \n",
       "6            claim_status_opinion       1.728906e+00    5.634485   \n",
       "\n",
       "   Odds_Ratio_not_verified  \n",
       "7                 1.506311  \n",
       "8                 1.119345  \n",
       "0                 1.001691  \n",
       "5                 1.000684  \n",
       "3                 1.000127  \n",
       "1                 1.000000  \n",
       "2                 0.999995  \n",
       "4                 0.999384  \n",
       "6                 0.177479  "
      ]
     },
     "metadata": {},
     "output_type": "display_data"
    }
   ],
   "source": [
    "# Create classification report for logistic regression model\n",
    "target_labels = [\"verified\", \"not verified\"]\n",
    "display(pd.DataFrame(classification_report(y_test_final, y_pred, target_names=target_labels, output_dict=True)).transpose())\n",
    "display(coefficients.sort_values(by='Odds_Ratio_not_verified', ascending=False))"
   ]
  },
  {
   "cell_type": "markdown",
   "metadata": {},
   "source": [
    "## Considerações e Insights"
   ]
  },
  {
   "cell_type": "markdown",
   "metadata": {},
   "source": [
    "### Considerações:\n",
    "\n",
    "1. No momento da codificação das variáveis as funções levam em consideração a ordem baseada no alfabeto, dessa forma a variável considerada como 0 foi 'not verified' consequentemente a variável 'verified' como 1. Com isso, os coeficientes apresentados na tabela final, especificamente na coluna \"Model Coefficient\", se referem às variáveis que afetam a probabilidade de uma conta ser **Verificada**.\n",
    "\n",
    "2. Por isso foi criado uma coluna extra no dataframe de coeficientes considerando o oposto das \"Odds_Ratio\" para facilitar a interpretação. Calculado como 1 / Odds_Ratio, gerando a coluna Odds_Ratio_not_verified.\n",
    "\n",
    "3. Como a variável de interesse é 'not verified' que significa uma conta não ser verificada na plataforma, na matriz de confusão, isso seria caracterizado como um Verdadeiro negativo, ou seja a quantidade de registros que foram corretamente categorizadas como 'not verified' que para o modelo tinha valor 0."
   ]
  },
  {
   "cell_type": "markdown",
   "metadata": {},
   "source": [
    "### Conclusões:\n",
    "\n",
    "Após as considerações, devemos olhar então para a coluna **_Odds_Ratio_not_verified_**\n",
    "\n",
    "A Variável `author_ban_status_banned` ou seja, uma conta que foi banida, indica um grande impacto na conta ser `não verificada` seguida pela variável `author_ban_status_under review` o que reforça a ideia de que essas contas tendem a postar vídeos de conteúdo questionável e devem ser monitoradas, de fato. Em contra partida a variável `claim_status_opinion` nos diz que quando um post se refere a uma opinião, a chance de a conta ser não verificada cai drásticamente, como suspeitado desde o início.\n",
    "\n",
    "O modelo de Regressão Logística demonstrou uma forte capacidade de cumprir o objetivo principal do projeto: identificar contas não verificadas. A performance do modelo para esta classe atingiu um recall de **83%** (também conhecido como Especificidade), provando sua eficácia em encontrar a grande maioria do público-alvo. \n",
    "Este alto poder de detecção resultou em uma precisão de 64%, indicando a presença de alguns falsos alarmes, porém ainda é melhor do que uma escolha randômica que teria 50% de chances de acerto. No entanto, o F1-Score de 72% confirma que o modelo possui um desempenho geral robusto e equilibrado para esta tarefa específica, estabelecendo um excelente baseline para futuras otimizações.\n",
    "\n"
   ]
  },
  {
   "cell_type": "markdown",
   "metadata": {},
   "source": []
  }
 ],
 "metadata": {
  "colab": {
   "provenance": [],
   "toc_visible": true
  },
  "kernelspec": {
   "display_name": ".venv",
   "language": "python",
   "name": "python3"
  },
  "language_info": {
   "codemirror_mode": {
    "name": "ipython",
    "version": 3
   },
   "file_extension": ".py",
   "mimetype": "text/x-python",
   "name": "python",
   "nbconvert_exporter": "python",
   "pygments_lexer": "ipython3",
   "version": "3.13.2"
  }
 },
 "nbformat": 4,
 "nbformat_minor": 1
}
